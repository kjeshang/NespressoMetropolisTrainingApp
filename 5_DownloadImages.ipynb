{
 "cells": [
  {
   "cell_type": "markdown",
   "id": "c2f152b4",
   "metadata": {},
   "source": [
    "# Setup"
   ]
  },
  {
   "cell_type": "code",
   "execution_count": 98,
   "id": "c638e6e7",
   "metadata": {},
   "outputs": [],
   "source": [
    "import pandas as pd\n",
    "import numpy as np\n",
    "import requests\n",
    "from PIL import Image\n",
    "import shutil\n",
    "import urllib"
   ]
  },
  {
   "cell_type": "markdown",
   "id": "b9267486",
   "metadata": {},
   "source": [
    "# Import Dataset"
   ]
  },
  {
   "cell_type": "code",
   "execution_count": 99,
   "id": "f85fdc37",
   "metadata": {},
   "outputs": [
    {
     "data": {
      "text/html": [
       "<div>\n",
       "<style scoped>\n",
       "    .dataframe tbody tr th:only-of-type {\n",
       "        vertical-align: middle;\n",
       "    }\n",
       "\n",
       "    .dataframe tbody tr th {\n",
       "        vertical-align: top;\n",
       "    }\n",
       "\n",
       "    .dataframe thead th {\n",
       "        text-align: right;\n",
       "    }\n",
       "</style>\n",
       "<table border=\"1\" class=\"dataframe\">\n",
       "  <thead>\n",
       "    <tr style=\"text-align: right;\">\n",
       "      <th></th>\n",
       "      <th>ID</th>\n",
       "      <th>Name</th>\n",
       "      <th>Type</th>\n",
       "      <th>Capsule Image Link</th>\n",
       "      <th>Capsule &amp; Sleeve Image Link</th>\n",
       "    </tr>\n",
       "  </thead>\n",
       "  <tbody>\n",
       "    <tr>\n",
       "      <th>0</th>\n",
       "      <td>VL01</td>\n",
       "      <td>Intenso</td>\n",
       "      <td>Vertuo</td>\n",
       "      <td>https://www.nespresso.com/ecom/medias/sys_mast...</td>\n",
       "      <td>https://www.nespresso.com/shared_res/agility/n...</td>\n",
       "    </tr>\n",
       "    <tr>\n",
       "      <th>1</th>\n",
       "      <td>VL02</td>\n",
       "      <td>Stormio</td>\n",
       "      <td>Vertuo</td>\n",
       "      <td>https://www.nespresso.com/ecom/medias/sys_mast...</td>\n",
       "      <td>https://www.nespresso.com/ecom/medias/sys_mast...</td>\n",
       "    </tr>\n",
       "    <tr>\n",
       "      <th>2</th>\n",
       "      <td>VL03</td>\n",
       "      <td>Fortado</td>\n",
       "      <td>Vertuo</td>\n",
       "      <td>https://www.nespresso.com/ecom/medias/sys_mast...</td>\n",
       "      <td>https://www.nespresso.com/shared_res/agility/n...</td>\n",
       "    </tr>\n",
       "    <tr>\n",
       "      <th>3</th>\n",
       "      <td>VL04</td>\n",
       "      <td>Fortado Decaffeinato</td>\n",
       "      <td>Vertuo</td>\n",
       "      <td>https://www.nespresso.com/ecom/medias/sys_mast...</td>\n",
       "      <td>https://www.nespresso.com/shared_res/agility/n...</td>\n",
       "    </tr>\n",
       "    <tr>\n",
       "      <th>4</th>\n",
       "      <td>VL05</td>\n",
       "      <td>Melozio</td>\n",
       "      <td>Vertuo</td>\n",
       "      <td>https://www.nespresso.com/ecom/medias/sys_mast...</td>\n",
       "      <td>https://www.nespresso.com/ecom/medias/sys_mast...</td>\n",
       "    </tr>\n",
       "  </tbody>\n",
       "</table>\n",
       "</div>"
      ],
      "text/plain": [
       "     ID                  Name    Type  \\\n",
       "0  VL01               Intenso  Vertuo   \n",
       "1  VL02               Stormio  Vertuo   \n",
       "2  VL03               Fortado  Vertuo   \n",
       "3  VL04  Fortado Decaffeinato  Vertuo   \n",
       "4  VL05               Melozio  Vertuo   \n",
       "\n",
       "                                  Capsule Image Link  \\\n",
       "0  https://www.nespresso.com/ecom/medias/sys_mast...   \n",
       "1  https://www.nespresso.com/ecom/medias/sys_mast...   \n",
       "2  https://www.nespresso.com/ecom/medias/sys_mast...   \n",
       "3  https://www.nespresso.com/ecom/medias/sys_mast...   \n",
       "4  https://www.nespresso.com/ecom/medias/sys_mast...   \n",
       "\n",
       "                         Capsule & Sleeve Image Link  \n",
       "0  https://www.nespresso.com/shared_res/agility/n...  \n",
       "1  https://www.nespresso.com/ecom/medias/sys_mast...  \n",
       "2  https://www.nespresso.com/shared_res/agility/n...  \n",
       "3  https://www.nespresso.com/shared_res/agility/n...  \n",
       "4  https://www.nespresso.com/ecom/medias/sys_mast...  "
      ]
     },
     "execution_count": 99,
     "metadata": {},
     "output_type": "execute_result"
    }
   ],
   "source": [
    "df = pd.read_csv(\"../NespressoTrainingApp/PreparedCoffeeData.csv\");\n",
    "imgCols = ['ID','Name','Type','Capsule Image Link','Capsule & Sleeve Image Link'];\n",
    "df[imgCols].head()"
   ]
  },
  {
   "cell_type": "markdown",
   "id": "9cbd0424",
   "metadata": {},
   "source": [
    "# Download Images\n",
    "\n",
    "* https://blog.finxter.com/5-easy-ways-to-download-an-image-from-a-url-in-python/\n",
    "* https://www.w3schools.com/python/python_try_except.asp"
   ]
  },
  {
   "cell_type": "code",
   "execution_count": 100,
   "id": "4614f377",
   "metadata": {},
   "outputs": [],
   "source": [
    "def download_image(dataframe, index, folder):\n",
    "    ID = dataframe.loc[index, \"ID\"];\n",
    "    Name = dataframe.loc[index, \"Name\"];\n",
    "    path = f\"../NespressoTrainingApp/assets/{folder}/{ID} {Name}\";\n",
    "    Type = dataframe.loc[index, \"Type\"];\n",
    "    success = True;\n",
    "    \n",
    "    # Capsule Image ------------\n",
    "    url_capsule = dataframe.loc[index, \"Capsule Image Link\"];\n",
    "    path_capsule = path + \" Capsule.png\";\n",
    "    \n",
    "    # Capsule & Sleeve ----------\n",
    "    url_capsuleAndSleeve = dataframe.loc[index, \"Capsule & Sleeve Image Link\"];\n",
    "    path_capsuleAndSleeve = path + \" CapsuleAndSleeve.png\";\n",
    "\n",
    "    try:\n",
    "        img_capsule = Image.open(requests.get(url_capsule, stream = True).raw);\n",
    "        img_capsuleAndSleeve = Image.open(requests.get(url_capsuleAndSleeve, stream = True).raw);\n",
    "    except:\n",
    "        success = False;\n",
    "    \n",
    "    if success == False:\n",
    "        print(Type + \" \" + Name + \" coffee images were unable to be downloaded. The images need to be downloaded manually.\");\n",
    "    else:\n",
    "        img_capsule.save(path_capsule);\n",
    "        img_capsuleAndSleeve.save(path_capsuleAndSleeve);\n",
    "        dataframe.loc[index, \"Capsule Image Link\"] = path_capsule[24:];\n",
    "        dataframe.loc[index, \"Capsule & Sleeve Image Link\"] = path_capsuleAndSleeve[24:];\n",
    "        "
   ]
  },
  {
   "cell_type": "code",
   "execution_count": 101,
   "id": "29b72603",
   "metadata": {},
   "outputs": [
    {
     "name": "stdout",
     "output_type": "stream",
     "text": [
      "Original Inspirazione Napoli coffee images were unable to be downloaded. The images need to be downloaded manually.\n",
      "Original Chiaro coffee images were unable to be downloaded. The images need to be downloaded manually.\n"
     ]
    }
   ],
   "source": [
    "for Type in df['Type'].unique().tolist():\n",
    "    for i in df[df['Type'] == Type].index:\n",
    "        download_image(df, i, Type.lower());"
   ]
  },
  {
   "cell_type": "code",
   "execution_count": 102,
   "id": "a7f9780e",
   "metadata": {},
   "outputs": [
    {
     "name": "stdout",
     "output_type": "stream",
     "text": [
      "35\n"
     ]
    }
   ],
   "source": [
    "napoli_id = df[df['Name'] == 'Inspirazione Napoli'].index[0].astype(int);\n",
    "print(napoli_id);\n",
    "df.loc[napoli_id, \"Capsule Image Link\"] = \"assets/original/OL1 Napoli Capsule.png\";\n",
    "df.loc[napoli_id, \"Capsule & Sleeve Image Link\"] = \"assets/original/OL1 Napoli CapsuleAndSleeve.png\";"
   ]
  },
  {
   "cell_type": "code",
   "execution_count": 103,
   "id": "9d57bd88",
   "metadata": {},
   "outputs": [
    {
     "name": "stdout",
     "output_type": "stream",
     "text": [
      "66\n"
     ]
    }
   ],
   "source": [
    "chiaro_id = df[df['Name'] == \"Chiaro\"].index[0].astype(int);\n",
    "print(chiaro_id);\n",
    "df.loc[chiaro_id, \"Capsule Image Link\"] = \"assets/original/OL32 Chiaro Capsule.png\";\n",
    "df.loc[chiaro_id, \"Capsule & Sleeve Image Link\"] = \"assets/original/OL32 Chiaro CapsuleAndSleeve.png\";"
   ]
  },
  {
   "cell_type": "code",
   "execution_count": 104,
   "id": "df27f6eb",
   "metadata": {},
   "outputs": [
    {
     "data": {
      "text/html": [
       "<div>\n",
       "<style scoped>\n",
       "    .dataframe tbody tr th:only-of-type {\n",
       "        vertical-align: middle;\n",
       "    }\n",
       "\n",
       "    .dataframe tbody tr th {\n",
       "        vertical-align: top;\n",
       "    }\n",
       "\n",
       "    .dataframe thead th {\n",
       "        text-align: right;\n",
       "    }\n",
       "</style>\n",
       "<table border=\"1\" class=\"dataframe\">\n",
       "  <thead>\n",
       "    <tr style=\"text-align: right;\">\n",
       "      <th></th>\n",
       "      <th>ID</th>\n",
       "      <th>Name</th>\n",
       "      <th>Type</th>\n",
       "      <th>Capsule Image Link</th>\n",
       "      <th>Capsule &amp; Sleeve Image Link</th>\n",
       "    </tr>\n",
       "  </thead>\n",
       "  <tbody>\n",
       "    <tr>\n",
       "      <th>0</th>\n",
       "      <td>VL01</td>\n",
       "      <td>Intenso</td>\n",
       "      <td>Vertuo</td>\n",
       "      <td>assets/vertuo/VL01 Intenso Capsule.png</td>\n",
       "      <td>assets/vertuo/VL01 Intenso CapsuleAndSleeve.png</td>\n",
       "    </tr>\n",
       "    <tr>\n",
       "      <th>1</th>\n",
       "      <td>VL02</td>\n",
       "      <td>Stormio</td>\n",
       "      <td>Vertuo</td>\n",
       "      <td>assets/vertuo/VL02 Stormio Capsule.png</td>\n",
       "      <td>assets/vertuo/VL02 Stormio CapsuleAndSleeve.png</td>\n",
       "    </tr>\n",
       "    <tr>\n",
       "      <th>2</th>\n",
       "      <td>VL03</td>\n",
       "      <td>Fortado</td>\n",
       "      <td>Vertuo</td>\n",
       "      <td>assets/vertuo/VL03 Fortado Capsule.png</td>\n",
       "      <td>assets/vertuo/VL03 Fortado CapsuleAndSleeve.png</td>\n",
       "    </tr>\n",
       "    <tr>\n",
       "      <th>3</th>\n",
       "      <td>VL04</td>\n",
       "      <td>Fortado Decaffeinato</td>\n",
       "      <td>Vertuo</td>\n",
       "      <td>assets/vertuo/VL04 Fortado Decaffeinato Capsul...</td>\n",
       "      <td>assets/vertuo/VL04 Fortado Decaffeinato Capsul...</td>\n",
       "    </tr>\n",
       "    <tr>\n",
       "      <th>4</th>\n",
       "      <td>VL05</td>\n",
       "      <td>Melozio</td>\n",
       "      <td>Vertuo</td>\n",
       "      <td>assets/vertuo/VL05 Melozio Capsule.png</td>\n",
       "      <td>assets/vertuo/VL05 Melozio CapsuleAndSleeve.png</td>\n",
       "    </tr>\n",
       "    <tr>\n",
       "      <th>...</th>\n",
       "      <td>...</td>\n",
       "      <td>...</td>\n",
       "      <td>...</td>\n",
       "      <td>...</td>\n",
       "      <td>...</td>\n",
       "    </tr>\n",
       "    <tr>\n",
       "      <th>65</th>\n",
       "      <td>OL31</td>\n",
       "      <td>Scuro</td>\n",
       "      <td>Original</td>\n",
       "      <td>assets/original/OL31 Scuro Capsule.png</td>\n",
       "      <td>assets/original/OL31 Scuro CapsuleAndSleeve.png</td>\n",
       "    </tr>\n",
       "    <tr>\n",
       "      <th>66</th>\n",
       "      <td>OL32</td>\n",
       "      <td>Chiaro</td>\n",
       "      <td>Original</td>\n",
       "      <td>assets/original/OL32 Chiaro Capsule.png</td>\n",
       "      <td>assets/original/OL32 Chiaro CapsuleAndSleeve.png</td>\n",
       "    </tr>\n",
       "    <tr>\n",
       "      <th>67</th>\n",
       "      <td>OL33</td>\n",
       "      <td>Cocoa Truffle</td>\n",
       "      <td>Original</td>\n",
       "      <td>assets/original/OL33 Cocoa Truffle Capsule.png</td>\n",
       "      <td>assets/original/OL33 Cocoa Truffle CapsuleAndS...</td>\n",
       "    </tr>\n",
       "    <tr>\n",
       "      <th>68</th>\n",
       "      <td>OL34</td>\n",
       "      <td>Vanilla Éclair</td>\n",
       "      <td>Original</td>\n",
       "      <td>assets/original/OL34 Vanilla Éclair Capsule.png</td>\n",
       "      <td>assets/original/OL34 Vanilla Éclair CapsuleAnd...</td>\n",
       "    </tr>\n",
       "    <tr>\n",
       "      <th>69</th>\n",
       "      <td>OL35</td>\n",
       "      <td>Caramel Crème Brulle</td>\n",
       "      <td>Original</td>\n",
       "      <td>assets/original/OL35 Caramel Crème Brulle Caps...</td>\n",
       "      <td>assets/original/OL35 Caramel Crème Brulle Caps...</td>\n",
       "    </tr>\n",
       "  </tbody>\n",
       "</table>\n",
       "<p>70 rows × 5 columns</p>\n",
       "</div>"
      ],
      "text/plain": [
       "      ID                  Name      Type  \\\n",
       "0   VL01               Intenso    Vertuo   \n",
       "1   VL02               Stormio    Vertuo   \n",
       "2   VL03               Fortado    Vertuo   \n",
       "3   VL04  Fortado Decaffeinato    Vertuo   \n",
       "4   VL05               Melozio    Vertuo   \n",
       "..   ...                   ...       ...   \n",
       "65  OL31                 Scuro  Original   \n",
       "66  OL32                Chiaro  Original   \n",
       "67  OL33         Cocoa Truffle  Original   \n",
       "68  OL34        Vanilla Éclair  Original   \n",
       "69  OL35  Caramel Crème Brulle  Original   \n",
       "\n",
       "                                   Capsule Image Link  \\\n",
       "0              assets/vertuo/VL01 Intenso Capsule.png   \n",
       "1              assets/vertuo/VL02 Stormio Capsule.png   \n",
       "2              assets/vertuo/VL03 Fortado Capsule.png   \n",
       "3   assets/vertuo/VL04 Fortado Decaffeinato Capsul...   \n",
       "4              assets/vertuo/VL05 Melozio Capsule.png   \n",
       "..                                                ...   \n",
       "65             assets/original/OL31 Scuro Capsule.png   \n",
       "66            assets/original/OL32 Chiaro Capsule.png   \n",
       "67     assets/original/OL33 Cocoa Truffle Capsule.png   \n",
       "68    assets/original/OL34 Vanilla Éclair Capsule.png   \n",
       "69  assets/original/OL35 Caramel Crème Brulle Caps...   \n",
       "\n",
       "                          Capsule & Sleeve Image Link  \n",
       "0     assets/vertuo/VL01 Intenso CapsuleAndSleeve.png  \n",
       "1     assets/vertuo/VL02 Stormio CapsuleAndSleeve.png  \n",
       "2     assets/vertuo/VL03 Fortado CapsuleAndSleeve.png  \n",
       "3   assets/vertuo/VL04 Fortado Decaffeinato Capsul...  \n",
       "4     assets/vertuo/VL05 Melozio CapsuleAndSleeve.png  \n",
       "..                                                ...  \n",
       "65    assets/original/OL31 Scuro CapsuleAndSleeve.png  \n",
       "66   assets/original/OL32 Chiaro CapsuleAndSleeve.png  \n",
       "67  assets/original/OL33 Cocoa Truffle CapsuleAndS...  \n",
       "68  assets/original/OL34 Vanilla Éclair CapsuleAnd...  \n",
       "69  assets/original/OL35 Caramel Crème Brulle Caps...  \n",
       "\n",
       "[70 rows x 5 columns]"
      ]
     },
     "execution_count": 104,
     "metadata": {},
     "output_type": "execute_result"
    }
   ],
   "source": [
    "df[imgCols]"
   ]
  },
  {
   "cell_type": "code",
   "execution_count": 105,
   "id": "1eda06a4",
   "metadata": {},
   "outputs": [],
   "source": [
    "df.to_csv(\"../NespressoTrainingApp/PreparedCoffeeData_Local.csv\", index=False)"
   ]
  },
  {
   "cell_type": "code",
   "execution_count": null,
   "id": "717cb845",
   "metadata": {},
   "outputs": [],
   "source": []
  }
 ],
 "metadata": {
  "kernelspec": {
   "display_name": "Python 3 (ipykernel)",
   "language": "python",
   "name": "python3"
  },
  "language_info": {
   "codemirror_mode": {
    "name": "ipython",
    "version": 3
   },
   "file_extension": ".py",
   "mimetype": "text/x-python",
   "name": "python",
   "nbconvert_exporter": "python",
   "pygments_lexer": "ipython3",
   "version": "3.9.13"
  }
 },
 "nbformat": 4,
 "nbformat_minor": 5
}
