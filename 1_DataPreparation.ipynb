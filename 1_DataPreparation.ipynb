{
 "cells": [
  {
   "cell_type": "markdown",
   "metadata": {},
   "source": [
    "# DATA PREPARATION"
   ]
  },
  {
   "cell_type": "markdown",
   "metadata": {},
   "source": [
    "# **Setup**"
   ]
  },
  {
   "cell_type": "code",
   "execution_count": 1,
   "metadata": {},
   "outputs": [],
   "source": [
    "# Import necessary packages\n",
    "import pandas as pd\n",
    "import numpy as np"
   ]
  },
  {
   "cell_type": "markdown",
   "metadata": {},
   "source": [
    "# **Import the Data**\n",
    "All imported data was retrieved from the Nespresso Canada, USA, UK, and Australia Websites."
   ]
  },
  {
   "cell_type": "code",
   "execution_count": 2,
   "metadata": {},
   "outputs": [
    {
     "data": {
      "text/html": [
       "<div>\n",
       "<style scoped>\n",
       "    .dataframe tbody tr th:only-of-type {\n",
       "        vertical-align: middle;\n",
       "    }\n",
       "\n",
       "    .dataframe tbody tr th {\n",
       "        vertical-align: top;\n",
       "    }\n",
       "\n",
       "    .dataframe thead th {\n",
       "        text-align: right;\n",
       "    }\n",
       "</style>\n",
       "<table border=\"1\" class=\"dataframe\">\n",
       "  <thead>\n",
       "    <tr style=\"text-align: right;\">\n",
       "      <th></th>\n",
       "      <th>ID</th>\n",
       "      <th>Name</th>\n",
       "      <th>Type</th>\n",
       "      <th>Serving</th>\n",
       "      <th>Serving Size</th>\n",
       "      <th>Headline</th>\n",
       "      <th>Intensity</th>\n",
       "      <th>Sleeve Price</th>\n",
       "      <th>Per Capsule Price</th>\n",
       "      <th>Caption</th>\n",
       "      <th>...</th>\n",
       "      <th>Creamy Texture</th>\n",
       "      <th>Ingredients &amp; Allergens</th>\n",
       "      <th>Number of Capsules per Sleeve</th>\n",
       "      <th>Net Weight per Total Number of Capsules</th>\n",
       "      <th>Capsule Image Link</th>\n",
       "      <th>Capsule &amp; Sleeve Image Link</th>\n",
       "      <th>Decaf Coffee?</th>\n",
       "      <th>Category</th>\n",
       "      <th>Other Information</th>\n",
       "      <th>Status</th>\n",
       "    </tr>\n",
       "  </thead>\n",
       "  <tbody>\n",
       "    <tr>\n",
       "      <th>0</th>\n",
       "      <td>VL01</td>\n",
       "      <td>Intenso</td>\n",
       "      <td>Vertuo</td>\n",
       "      <td>Coffee</td>\n",
       "      <td>230ml</td>\n",
       "      <td>Smooth &amp; Strong</td>\n",
       "      <td>9.0</td>\n",
       "      <td>12.6</td>\n",
       "      <td>1.26</td>\n",
       "      <td>Why we love it: Try Intenso - a Vertuo coffee ...</td>\n",
       "      <td>...</td>\n",
       "      <td>NaN</td>\n",
       "      <td>Roast and ground coffee</td>\n",
       "      <td>10</td>\n",
       "      <td>125 g</td>\n",
       "      <td>https://www.nespresso.com/ecom/medias/sys_mast...</td>\n",
       "      <td>https://www.nespresso.com/shared_res/agility/n...</td>\n",
       "      <td>No</td>\n",
       "      <td>Signature Coffee</td>\n",
       "      <td>NaN</td>\n",
       "      <td>Current</td>\n",
       "    </tr>\n",
       "  </tbody>\n",
       "</table>\n",
       "<p>1 rows × 30 columns</p>\n",
       "</div>"
      ],
      "text/plain": [
       "     ID     Name    Type Serving Serving Size         Headline  Intensity  \\\n",
       "0  VL01  Intenso  Vertuo  Coffee        230ml  Smooth & Strong        9.0   \n",
       "\n",
       "   Sleeve Price  Per Capsule Price  \\\n",
       "0          12.6               1.26   \n",
       "\n",
       "                                             Caption  ... Creamy Texture  \\\n",
       "0  Why we love it: Try Intenso - a Vertuo coffee ...  ...            NaN   \n",
       "\n",
       "   Ingredients & Allergens Number of Capsules per Sleeve  \\\n",
       "0  Roast and ground coffee                            10   \n",
       "\n",
       "   Net Weight per Total Number of Capsules  \\\n",
       "0                                    125 g   \n",
       "\n",
       "                                  Capsule Image Link  \\\n",
       "0  https://www.nespresso.com/ecom/medias/sys_mast...   \n",
       "\n",
       "                         Capsule & Sleeve Image Link  Decaf Coffee?  \\\n",
       "0  https://www.nespresso.com/shared_res/agility/n...             No   \n",
       "\n",
       "           Category  Other Information   Status  \n",
       "0  Signature Coffee                NaN  Current  \n",
       "\n",
       "[1 rows x 30 columns]"
      ]
     },
     "execution_count": 2,
     "metadata": {},
     "output_type": "execute_result"
    }
   ],
   "source": [
    "# Import Vertuo Coffee Data from \"CoffeeData.xlsx\"\n",
    "dfVertuo_Raw = pd.read_excel(\"Dataset/CoffeeData.xlsx\", index_col=False, sheet_name=\"Vertuo\");\n",
    "dfVertuo_Raw = dfVertuo_Raw[dfVertuo_Raw[\"Status\"] == \"Current\"];\n",
    "\n",
    "# Import Original Coffee Data from \"CoffeeData.xlsx\"\n",
    "dfOriginal_Raw = pd.read_excel(\"Dataset/CoffeeData.xlsx\", index_col=False, sheet_name=\"Original\");\n",
    "dfOriginal_Raw = dfOriginal_Raw[dfOriginal_Raw[\"Status\"] == \"Current\"];\n",
    "\n",
    "# Combine the Vertuo and Original Coffee dataframes together\n",
    "df = pd.concat([dfVertuo_Raw, dfOriginal_Raw]).reset_index(drop=True);\n",
    "\n",
    "# Take a peek at the combine dataframe\n",
    "df.head(1)"
   ]
  },
  {
   "cell_type": "code",
   "execution_count": 3,
   "metadata": {},
   "outputs": [
    {
     "name": "stdout",
     "output_type": "stream",
     "text": [
      "<class 'pandas.core.frame.DataFrame'>\n",
      "RangeIndex: 70 entries, 0 to 69\n",
      "Data columns (total 30 columns):\n",
      " #   Column                                   Non-Null Count  Dtype  \n",
      "---  ------                                   --------------  -----  \n",
      " 0   ID                                       70 non-null     object \n",
      " 1   Name                                     70 non-null     object \n",
      " 2   Type                                     70 non-null     object \n",
      " 3   Serving                                  70 non-null     object \n",
      " 4   Serving Size                             70 non-null     object \n",
      " 5   Headline                                 70 non-null     object \n",
      " 6   Intensity                                55 non-null     float64\n",
      " 7   Sleeve Price                             70 non-null     float64\n",
      " 8   Per Capsule Price                        70 non-null     float64\n",
      " 9   Caption                                  70 non-null     object \n",
      " 10  Taste                                    70 non-null     object \n",
      " 11  Best Served As                           70 non-null     object \n",
      " 12  Notes                                    70 non-null     object \n",
      " 13  Acidity                                  63 non-null     float64\n",
      " 14  Bitterness                               63 non-null     float64\n",
      " 15  Roastness                                63 non-null     float64\n",
      " 16  Body                                     63 non-null     float64\n",
      " 17  Milky Taste                              12 non-null     float64\n",
      " 18  Bitterness with Milk                     12 non-null     float64\n",
      " 19  Roastiness with Milk                     12 non-null     float64\n",
      " 20  Creamy Texture                           12 non-null     float64\n",
      " 21  Ingredients & Allergens                  70 non-null     object \n",
      " 22  Number of Capsules per Sleeve            70 non-null     int64  \n",
      " 23  Net Weight per Total Number of Capsules  70 non-null     object \n",
      " 24  Capsule Image Link                       70 non-null     object \n",
      " 25  Capsule & Sleeve Image Link              70 non-null     object \n",
      " 26  Decaf Coffee?                            70 non-null     object \n",
      " 27  Category                                 70 non-null     object \n",
      " 28  Other Information                        4 non-null      object \n",
      " 29  Status                                   70 non-null     object \n",
      "dtypes: float64(11), int64(1), object(18)\n",
      "memory usage: 16.5+ KB\n"
     ]
    }
   ],
   "source": [
    "# Check the structure of the dataframe, datatype of columns, and any columns containing null values\n",
    "df.info()"
   ]
  },
  {
   "cell_type": "code",
   "execution_count": 4,
   "metadata": {},
   "outputs": [
    {
     "data": {
      "text/plain": [
       "Index(['ID', 'Name', 'Type', 'Serving', 'Serving Size', 'Headline',\n",
       "       'Intensity', 'Sleeve Price', 'Per Capsule Price', 'Caption', 'Taste',\n",
       "       'Best Served As', 'Notes', 'Acidity', 'Bitterness', 'Roastness', 'Body',\n",
       "       'Milky Taste', 'Bitterness with Milk', 'Roastiness with Milk',\n",
       "       'Creamy Texture', 'Ingredients & Allergens',\n",
       "       'Number of Capsules per Sleeve',\n",
       "       'Net Weight per Total Number of Capsules', 'Capsule Image Link',\n",
       "       'Capsule & Sleeve Image Link', 'Decaf Coffee?', 'Category',\n",
       "       'Other Information', 'Status'],\n",
       "      dtype='object')"
      ]
     },
     "execution_count": 4,
     "metadata": {},
     "output_type": "execute_result"
    }
   ],
   "source": [
    "# Names of all columns in the dataframe\n",
    "df.columns"
   ]
  },
  {
   "cell_type": "markdown",
   "metadata": {},
   "source": [
    "# **Data Cleaning**\n",
    "As the retrieved data contains NULL values, due to the information not being available on the Nespresso website/s, I have attempted to address them in this step. I also consulted my team leaders at the Metrotown boutique to provide their own interpretation regarding the intensities of certain coffee flavours that do not have a numerical value. Specifically, I consulted the Bard Team Lead (Ms. Kashish Bhandari) and the Total Quality Management Team Lead (Ms. Zoe Jia). They are both highly regarded and respected professionals at the Nespresso Metrotown branch by both Management and Coffee Specialists alike. In addition, I have also tried to derive textual meaning from the numerical column values so that they can be incorporated in the NLP pre-processing step. I also consulted my Team Leads regarding this as well, and asked them to attempt to classify the taste profile levels that typically utilize a 1 to 5 scale."
   ]
  },
  {
   "cell_type": "code",
   "execution_count": 5,
   "metadata": {},
   "outputs": [],
   "source": [
    "# HANDLE NULL INTENSITY COLUMN VALUES\n",
    "# I had to do research using external sources, which could be based on past versions of flavors or opinions, as well as apply my own judgement to determine the intensity levels of coffee flavors that are not available. At least as of June 2021, coffee of Barista Creations category do not have an intensity level provided but are generally considered a medium roast. As of September 2021, coffee of Craft Brew category do not have an intensity level by default; they are generally medium roast but the 'Carafe Pour-Over Style Mild' is a more blonder roast than the regular 'Carafe Pour-Over Style'.\n",
    "\n",
    "nullIntensityRowIDs = df[df['Intensity'].isnull()].index.to_list();\n",
    "for id in nullIntensityRowIDs:\n",
    "    # VERTUO -----------------------\n",
    "    # Carafe Pour-Over Style Mild; My Guess = 5, Team Lead Guess = 3 or 4\n",
    "    # Carafe Pour-Over Style; My Guess = 7, Team Lead Guess = 7\n",
    "    # Bianco Forte; My Guess = 7, Team Lead Guess = 7 or 8\n",
    "    # Bianco Piccolo; My Guess = 6, Team Lead Guess = 6 or 7\n",
    "    if df.loc[id, 'Name'] == \"Carafe Pour-Over Style Mild\":\n",
    "        df.loc[id, 'Intensity'] = 5;\n",
    "    elif (df.loc[id, 'Name'] == \"Carafe Pour-Over Style\") | (df.loc[id, 'Name'] == \"Bianco Forte\") | (df.loc[id, 'Name'] == 'Bianco Piccolo'):\n",
    "        df.loc[id, 'Intensity'] = 7;\n",
    "    # ORIGINAL --------------------\n",
    "    # Corto; My Guess = 11, Team Lead Guess = 7 or 8\n",
    "    elif (df.loc[id, \"Name\"] == \"Corto\"):\n",
    "        df.loc[id, \"Intensity\"] = 11;\n",
    "    # Scuro = 8\n",
    "    elif (df.loc[id, \"Name\"] == \"Scuro\"):\n",
    "        df.loc[id, \"Intensity\"] = 8;\n",
    "    # ALL OTHER REMAINING VERTUO & ORIGINAL FLAVOURS\n",
    "    # VERTUO:\n",
    "    # Vanilla Custard Pie = 6\n",
    "    # Caramel Cookie = 6\n",
    "    # Hazelino Muffin = 6\n",
    "    # Chocololate Fudge = 6\n",
    "    # Bianco Leggero = 6 (Guess)\n",
    "    # ORIGINAL:\n",
    "    # Chiaro = 6\n",
    "    # Cocoa Truffle = 6\n",
    "    # Vanilla Eclair = 6\n",
    "    # Caramel Creme Brulle = 6\n",
    "    else:\n",
    "        df.loc[id, 'Intensity'] = 6;"
   ]
  },
  {
   "cell_type": "code",
   "execution_count": 6,
   "metadata": {},
   "outputs": [],
   "source": [
    "# INDICATE WHICH COFFEES DO NOT HAVE AN OFFICIAL INTENSITY LEVEL\n",
    "# From the above cell, it can be seen that some coffee flavors do not have an official intensity level provided by Nespresso. In turn, an estimate is provided to accomodate for null values. In turn, it is important to indicate in the 'Other Information' column which coffee flavors have an estimated intensity level for the purpose of transparency & clarity.\n",
    "\n",
    "message = \"The intensity provided is an estimate as this coffee does not have an official intensity level\";\n",
    "for id in nullIntensityRowIDs:\n",
    "    if df.loc[id, \"Category\"] == \"Craft Brew\":\n",
    "        df.loc[id, \"Other Information\"] += f\", {message}\";\n",
    "    else:\n",
    "        df.loc[id, \"Other Information\"] = message;"
   ]
  },
  {
   "cell_type": "code",
   "execution_count": 7,
   "metadata": {},
   "outputs": [],
   "source": [
    "# HANDLE NULL ACIDITY, BITTERNESS, ROASTNESS, AND BODY VALUES\n",
    "# All null values are of category 'Barista Creations', so will set them to 3 as it respective to the middle of the scale between 1 to 5.\n",
    "\n",
    "if (df[df['Acidity'].isnull()].index.tolist() == df[df['Bitterness'].isnull()].index.tolist() == df[df['Roastness'].isnull()].index.tolist() == df[df['Body'].isnull().tolist()].index.tolist()) == True:\n",
    "    nullRowIDs = df[df['Acidity'].isnull()].index.tolist();\n",
    "    df.loc[nullRowIDs, ['Acidity','Bitterness','Roastness','Body']] = 3;\n",
    "else:\n",
    "    print(\"Invalid. Handle null values manually.\")"
   ]
  },
  {
   "cell_type": "code",
   "execution_count": 8,
   "metadata": {},
   "outputs": [],
   "source": [
    "# HANDLE NULL MILKY TASTE, BITTERNESS WITH MILK, ROASTINESS WITH MILK, AND CREAMY TEXTURE VALUES\n",
    "# All null values are of all other categories besides 'Barista Creations', so will set them to 3 as it respective to the middle of the scale between 1 to 5\n",
    "\n",
    "if (df[df['Milky Taste'].isnull()].index.tolist() == df[df['Bitterness with Milk'].isnull()].index.tolist() == df[df['Roastiness with Milk'].isnull()].index.tolist() == df[df['Creamy Texture'].isnull().tolist()].index.tolist()) == True:\n",
    "    nullRowIDs = df[df['Milky Taste'].isnull()].index.tolist();\n",
    "    df.loc[nullRowIDs, ['Milky Taste','Bitterness with Milk','Roastiness with Milk','Creamy Texture']] = 3;\n",
    "else:\n",
    "    print(\"Invalid. Handle null values manually.\")"
   ]
  },
  {
   "cell_type": "markdown",
   "metadata": {},
   "source": [
    "# **Creating New Features**\n",
    "In this step, I am creating new-concise textual features from numerical features. This is for the purpose of incorporating the significant numerical features, which are now represented as textual features through binning, so that they can be incorporated in the NLP Pre-processing step."
   ]
  },
  {
   "cell_type": "code",
   "execution_count": 9,
   "metadata": {},
   "outputs": [],
   "source": [
    "# Light Roast: 1 to 4\n",
    "# Medium Roast: 5 to 8\n",
    "# Dark Roast: 9 to 13\n",
    "\n",
    "def determineRoastType(intensity):\n",
    "    if (intensity > 0) & (intensity < 5):\n",
    "        return \"Blonde\";\n",
    "    elif (intensity >= 5) & (intensity <= 8):\n",
    "        return \"Medium\";\n",
    "    else:\n",
    "        return \"Dark\";\n",
    "df[\"Roast Type\"] = df.apply(lambda x: determineRoastType(x['Intensity']), axis=1);"
   ]
  },
  {
   "cell_type": "code",
   "execution_count": 10,
   "metadata": {},
   "outputs": [],
   "source": [
    "# Light Roast: 1 to 4 -> Low\n",
    "# Medium Roast: 5 to 8 -> Medium\n",
    "# Dark Roast: 9 to 13 -> High\n",
    "\n",
    "def determineIntensityClassification(intensity):\n",
    "    if (intensity > 0) & (intensity < 5):\n",
    "        return \"Low\";\n",
    "    elif (intensity >= 5) & (intensity <= 8):\n",
    "        return \"Medium\";\n",
    "    else:\n",
    "        return \"High\";\n",
    "df[\"Intensity Classification\"] = df.apply(lambda x: determineIntensityClassification(x['Intensity']), axis=1);"
   ]
  },
  {
   "cell_type": "code",
   "execution_count": 11,
   "metadata": {},
   "outputs": [],
   "source": [
    "# My Classification of Taste Profile Level\n",
    "# Low Taste Profile Level = 1 to 2\n",
    "# Medium Taste Profile Level = 3 to 4\n",
    "# High Taste Profile Level = 5\n",
    "\n",
    "# Team Lead Classification of Taste Profile Level\n",
    "# Low Taste Profile Level = 1\n",
    "# Medium Taste Profile Level = 2 to 3\n",
    "# High Taste Profile Level = 4 to 5\n",
    "\n",
    "def determineTasteProfileClassification(tasteProfileValue):\n",
    "    if (tasteProfileValue > 0) & (tasteProfileValue < 2):\n",
    "        return \"Low\";\n",
    "    elif (tasteProfileValue >= 2) & (tasteProfileValue <= 3):\n",
    "        return \"Medium\";\n",
    "    else:\n",
    "        return \"High\";\n",
    "        \n",
    "for col in ['Acidity','Bitterness','Roastness','Body']:\n",
    "    df[col + \" Classification\"] = df.apply(lambda x: determineTasteProfileClassification(x[col]), axis=1);"
   ]
  },
  {
   "cell_type": "code",
   "execution_count": 12,
   "metadata": {},
   "outputs": [],
   "source": [
    "# My Classification of Taste Profile with Milk Level\n",
    "# Low Taste Profile Level = 1 to 2\n",
    "# Medium Taste Profile Level = 3 to 4\n",
    "# High Taste Profile Level = 5\n",
    "\n",
    "# Team Lead Classification of Taste Profile with Milk Level\n",
    "# Low Taste Profile with Milk Level = 1\n",
    "# Medium Taste Profile with Milk Level = 2 to 3\n",
    "# High Taste Profile with Milk Level = 4 to 5\n",
    "\n",
    "def determineTasteProfileWithMilkClassification(tasteProfileWithMilkValue):\n",
    "    if (tasteProfileWithMilkValue > 0) & (tasteProfileWithMilkValue < 2):\n",
    "        return \"Low\";\n",
    "    elif (tasteProfileWithMilkValue >= 2) & (tasteProfileWithMilkValue <= 3):\n",
    "        return \"Medium\";\n",
    "    else:\n",
    "        return \"High\";\n",
    "for col in ['Milky Taste', 'Bitterness with Milk', 'Roastiness with Milk',\n",
    "'Creamy Texture']:\n",
    "    df[col + \" Classification\"] = df.apply(lambda x: determineTasteProfileWithMilkClassification(x[col]), axis=1);"
   ]
  },
  {
   "cell_type": "code",
   "execution_count": 13,
   "metadata": {},
   "outputs": [
    {
     "name": "stdout",
     "output_type": "stream",
     "text": [
      "<class 'pandas.core.frame.DataFrame'>\n",
      "RangeIndex: 70 entries, 0 to 69\n",
      "Data columns (total 40 columns):\n",
      " #   Column                                   Non-Null Count  Dtype  \n",
      "---  ------                                   --------------  -----  \n",
      " 0   ID                                       70 non-null     object \n",
      " 1   Name                                     70 non-null     object \n",
      " 2   Type                                     70 non-null     object \n",
      " 3   Serving                                  70 non-null     object \n",
      " 4   Serving Size                             70 non-null     object \n",
      " 5   Headline                                 70 non-null     object \n",
      " 6   Intensity                                70 non-null     float64\n",
      " 7   Sleeve Price                             70 non-null     float64\n",
      " 8   Per Capsule Price                        70 non-null     float64\n",
      " 9   Caption                                  70 non-null     object \n",
      " 10  Taste                                    70 non-null     object \n",
      " 11  Best Served As                           70 non-null     object \n",
      " 12  Notes                                    70 non-null     object \n",
      " 13  Acidity                                  70 non-null     float64\n",
      " 14  Bitterness                               70 non-null     float64\n",
      " 15  Roastness                                70 non-null     float64\n",
      " 16  Body                                     70 non-null     float64\n",
      " 17  Milky Taste                              70 non-null     float64\n",
      " 18  Bitterness with Milk                     70 non-null     float64\n",
      " 19  Roastiness with Milk                     70 non-null     float64\n",
      " 20  Creamy Texture                           70 non-null     float64\n",
      " 21  Ingredients & Allergens                  70 non-null     object \n",
      " 22  Number of Capsules per Sleeve            70 non-null     int64  \n",
      " 23  Net Weight per Total Number of Capsules  70 non-null     object \n",
      " 24  Capsule Image Link                       70 non-null     object \n",
      " 25  Capsule & Sleeve Image Link              70 non-null     object \n",
      " 26  Decaf Coffee?                            70 non-null     object \n",
      " 27  Category                                 70 non-null     object \n",
      " 28  Other Information                        17 non-null     object \n",
      " 29  Status                                   70 non-null     object \n",
      " 30  Roast Type                               70 non-null     object \n",
      " 31  Intensity Classification                 70 non-null     object \n",
      " 32  Acidity Classification                   70 non-null     object \n",
      " 33  Bitterness Classification                70 non-null     object \n",
      " 34  Roastness Classification                 70 non-null     object \n",
      " 35  Body Classification                      70 non-null     object \n",
      " 36  Milky Taste Classification               70 non-null     object \n",
      " 37  Bitterness with Milk Classification      70 non-null     object \n",
      " 38  Roastiness with Milk Classification      70 non-null     object \n",
      " 39  Creamy Texture Classification            70 non-null     object \n",
      "dtypes: float64(11), int64(1), object(28)\n",
      "memory usage: 22.0+ KB\n"
     ]
    }
   ],
   "source": [
    "# Check the structure of the dataframe after data cleaning and creation of new textual features\n",
    "df.info()"
   ]
  },
  {
   "cell_type": "code",
   "execution_count": 14,
   "metadata": {},
   "outputs": [
    {
     "data": {
      "text/plain": [
       "Index(['ID', 'Name', 'Type', 'Serving', 'Serving Size', 'Headline',\n",
       "       'Intensity', 'Sleeve Price', 'Per Capsule Price', 'Caption', 'Taste',\n",
       "       'Best Served As', 'Notes', 'Acidity', 'Bitterness', 'Roastness', 'Body',\n",
       "       'Milky Taste', 'Bitterness with Milk', 'Roastiness with Milk',\n",
       "       'Creamy Texture', 'Ingredients & Allergens',\n",
       "       'Number of Capsules per Sleeve',\n",
       "       'Net Weight per Total Number of Capsules', 'Capsule Image Link',\n",
       "       'Capsule & Sleeve Image Link', 'Decaf Coffee?', 'Category',\n",
       "       'Other Information', 'Status', 'Roast Type', 'Intensity Classification',\n",
       "       'Acidity Classification', 'Bitterness Classification',\n",
       "       'Roastness Classification', 'Body Classification',\n",
       "       'Milky Taste Classification', 'Bitterness with Milk Classification',\n",
       "       'Roastiness with Milk Classification', 'Creamy Texture Classification'],\n",
       "      dtype='object')"
      ]
     },
     "execution_count": 14,
     "metadata": {},
     "output_type": "execute_result"
    }
   ],
   "source": [
    "#  Columns of the dataframe after data cleaning and creation of new textual features\n",
    "df.columns"
   ]
  },
  {
   "cell_type": "markdown",
   "metadata": {},
   "source": [
    "# **Export Cleaned Data**"
   ]
  },
  {
   "cell_type": "code",
   "execution_count": 15,
   "metadata": {},
   "outputs": [],
   "source": [
    "# Export cleaned dataframe \n",
    "df.to_csv('Dataset/CleanedCoffeeData.csv', index=False);"
   ]
  }
 ],
 "metadata": {
  "kernelspec": {
   "display_name": "Python 3.9.13 ('base')",
   "language": "python",
   "name": "python3"
  },
  "language_info": {
   "codemirror_mode": {
    "name": "ipython",
    "version": 3
   },
   "file_extension": ".py",
   "mimetype": "text/x-python",
   "name": "python",
   "nbconvert_exporter": "python",
   "pygments_lexer": "ipython3",
   "version": "3.9.13"
  },
  "orig_nbformat": 4,
  "vscode": {
   "interpreter": {
    "hash": "011027cb63e4e9eb49dbccb88f418212d6c3bf01b990f9bd7ae45364ac357b84"
   }
  }
 },
 "nbformat": 4,
 "nbformat_minor": 2
}
