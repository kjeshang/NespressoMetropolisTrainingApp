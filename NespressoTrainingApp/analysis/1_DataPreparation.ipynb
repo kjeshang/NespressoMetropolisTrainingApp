{
 "cells": [
  {
   "cell_type": "markdown",
   "metadata": {},
   "source": [
    "# **Setup**"
   ]
  },
  {
   "cell_type": "code",
   "execution_count": 1,
   "metadata": {},
   "outputs": [],
   "source": [
    "import pandas as pd\n",
    "import numpy as np\n",
    "\n",
    "from nltk.corpus import stopwords\n",
    "stop_words = set(stopwords.words('english'))\n",
    "from string import punctuation\n",
    "punctuation = list(punctuation)\n",
    "from nltk.tokenize import word_tokenize\n",
    "from nltk.stem import WordNetLemmatizer\n",
    "from nltk import pos_tag\n",
    "import re\n",
    "lemmatizer = WordNetLemmatizer()\n",
    "import en_core_web_sm\n",
    "nlp = en_core_web_sm.load()"
   ]
  },
  {
   "cell_type": "markdown",
   "metadata": {},
   "source": [
    "# **Import the Data**"
   ]
  },
  {
   "cell_type": "code",
   "execution_count": 2,
   "metadata": {},
   "outputs": [
    {
     "data": {
      "text/html": [
       "<div>\n",
       "<style scoped>\n",
       "    .dataframe tbody tr th:only-of-type {\n",
       "        vertical-align: middle;\n",
       "    }\n",
       "\n",
       "    .dataframe tbody tr th {\n",
       "        vertical-align: top;\n",
       "    }\n",
       "\n",
       "    .dataframe thead th {\n",
       "        text-align: right;\n",
       "    }\n",
       "</style>\n",
       "<table border=\"1\" class=\"dataframe\">\n",
       "  <thead>\n",
       "    <tr style=\"text-align: right;\">\n",
       "      <th></th>\n",
       "      <th>ID</th>\n",
       "      <th>Name</th>\n",
       "      <th>Type</th>\n",
       "      <th>Serving</th>\n",
       "      <th>Serving Size</th>\n",
       "      <th>Headline</th>\n",
       "      <th>Intensity</th>\n",
       "      <th>Sleeve Price</th>\n",
       "      <th>Per Capsule Price</th>\n",
       "      <th>Caption</th>\n",
       "      <th>...</th>\n",
       "      <th>Creamy Texture</th>\n",
       "      <th>Ingredients &amp; Allergens</th>\n",
       "      <th>Number of Capsules per Sleeve</th>\n",
       "      <th>Net Weight per Total Number of Capsules</th>\n",
       "      <th>Capsule Image Link</th>\n",
       "      <th>Capsule &amp; Sleeve Image Link</th>\n",
       "      <th>Decaf Coffee?</th>\n",
       "      <th>Category</th>\n",
       "      <th>Other Information</th>\n",
       "      <th>Status</th>\n",
       "    </tr>\n",
       "  </thead>\n",
       "  <tbody>\n",
       "    <tr>\n",
       "      <th>0</th>\n",
       "      <td>VL01</td>\n",
       "      <td>Intenso</td>\n",
       "      <td>Vertuo</td>\n",
       "      <td>Coffee</td>\n",
       "      <td>230ml</td>\n",
       "      <td>Smooth &amp; Strong</td>\n",
       "      <td>9.0</td>\n",
       "      <td>12.6</td>\n",
       "      <td>1.26</td>\n",
       "      <td>Why we love it: Try Intenso - a Vertuo coffee ...</td>\n",
       "      <td>...</td>\n",
       "      <td>NaN</td>\n",
       "      <td>Roast and ground coffee</td>\n",
       "      <td>10</td>\n",
       "      <td>125 g</td>\n",
       "      <td>https://www.nespresso.com/ecom/medias/sys_mast...</td>\n",
       "      <td>https://www.nespresso.com/shared_res/agility/n...</td>\n",
       "      <td>No</td>\n",
       "      <td>Signature Coffee</td>\n",
       "      <td>NaN</td>\n",
       "      <td>Current</td>\n",
       "    </tr>\n",
       "  </tbody>\n",
       "</table>\n",
       "<p>1 rows × 30 columns</p>\n",
       "</div>"
      ],
      "text/plain": [
       "     ID     Name    Type Serving Serving Size         Headline  Intensity  \\\n",
       "0  VL01  Intenso  Vertuo  Coffee        230ml  Smooth & Strong        9.0   \n",
       "\n",
       "   Sleeve Price  Per Capsule Price  \\\n",
       "0          12.6               1.26   \n",
       "\n",
       "                                             Caption  ... Creamy Texture  \\\n",
       "0  Why we love it: Try Intenso - a Vertuo coffee ...  ...            NaN   \n",
       "\n",
       "   Ingredients & Allergens Number of Capsules per Sleeve  \\\n",
       "0  Roast and ground coffee                            10   \n",
       "\n",
       "   Net Weight per Total Number of Capsules  \\\n",
       "0                                    125 g   \n",
       "\n",
       "                                  Capsule Image Link  \\\n",
       "0  https://www.nespresso.com/ecom/medias/sys_mast...   \n",
       "\n",
       "                         Capsule & Sleeve Image Link  Decaf Coffee?  \\\n",
       "0  https://www.nespresso.com/shared_res/agility/n...             No   \n",
       "\n",
       "           Category  Other Information   Status  \n",
       "0  Signature Coffee                NaN  Current  \n",
       "\n",
       "[1 rows x 30 columns]"
      ]
     },
     "execution_count": 2,
     "metadata": {},
     "output_type": "execute_result"
    }
   ],
   "source": [
    "dfVertuo_Raw = pd.read_excel(\"../data/CoffeeData.xlsx\", index_col=False, sheet_name=\"Vertuo\");\n",
    "dfVertuo_Raw = dfVertuo_Raw[dfVertuo_Raw[\"Status\"] == \"Current\"];\n",
    "\n",
    "dfOriginal_Raw = pd.read_excel(\"../data/CoffeeData.xlsx\", index_col=False, sheet_name=\"Original\");\n",
    "dfOriginal_Raw = dfOriginal_Raw[dfOriginal_Raw[\"Status\"] == \"Current\"];\n",
    "\n",
    "df = pd.concat([dfVertuo_Raw, dfOriginal_Raw]).reset_index(drop=True);\n",
    "df.head(1)"
   ]
  },
  {
   "cell_type": "code",
   "execution_count": 3,
   "metadata": {},
   "outputs": [
    {
     "name": "stdout",
     "output_type": "stream",
     "text": [
      "<class 'pandas.core.frame.DataFrame'>\n",
      "RangeIndex: 70 entries, 0 to 69\n",
      "Data columns (total 30 columns):\n",
      " #   Column                                   Non-Null Count  Dtype  \n",
      "---  ------                                   --------------  -----  \n",
      " 0   ID                                       70 non-null     object \n",
      " 1   Name                                     70 non-null     object \n",
      " 2   Type                                     70 non-null     object \n",
      " 3   Serving                                  70 non-null     object \n",
      " 4   Serving Size                             70 non-null     object \n",
      " 5   Headline                                 70 non-null     object \n",
      " 6   Intensity                                55 non-null     float64\n",
      " 7   Sleeve Price                             70 non-null     float64\n",
      " 8   Per Capsule Price                        70 non-null     float64\n",
      " 9   Caption                                  70 non-null     object \n",
      " 10  Taste                                    70 non-null     object \n",
      " 11  Best Served As                           70 non-null     object \n",
      " 12  Notes                                    70 non-null     object \n",
      " 13  Acidity                                  63 non-null     float64\n",
      " 14  Bitterness                               63 non-null     float64\n",
      " 15  Roastness                                63 non-null     float64\n",
      " 16  Body                                     63 non-null     float64\n",
      " 17  Milky Taste                              12 non-null     float64\n",
      " 18  Bitterness with Milk                     12 non-null     float64\n",
      " 19  Roastiness with Milk                     12 non-null     float64\n",
      " 20  Creamy Texture                           12 non-null     float64\n",
      " 21  Ingredients & Allergens                  70 non-null     object \n",
      " 22  Number of Capsules per Sleeve            70 non-null     int64  \n",
      " 23  Net Weight per Total Number of Capsules  70 non-null     object \n",
      " 24  Capsule Image Link                       70 non-null     object \n",
      " 25  Capsule & Sleeve Image Link              70 non-null     object \n",
      " 26  Decaf Coffee?                            70 non-null     object \n",
      " 27  Category                                 70 non-null     object \n",
      " 28  Other Information                        4 non-null      object \n",
      " 29  Status                                   70 non-null     object \n",
      "dtypes: float64(11), int64(1), object(18)\n",
      "memory usage: 16.5+ KB\n"
     ]
    }
   ],
   "source": [
    "df.info()"
   ]
  },
  {
   "cell_type": "code",
   "execution_count": 4,
   "metadata": {},
   "outputs": [
    {
     "data": {
      "text/plain": [
       "Index(['ID', 'Name', 'Type', 'Serving', 'Serving Size', 'Headline',\n",
       "       'Intensity', 'Sleeve Price', 'Per Capsule Price', 'Caption', 'Taste',\n",
       "       'Best Served As', 'Notes', 'Acidity', 'Bitterness', 'Roastness', 'Body',\n",
       "       'Milky Taste', 'Bitterness with Milk', 'Roastiness with Milk',\n",
       "       'Creamy Texture', 'Ingredients & Allergens',\n",
       "       'Number of Capsules per Sleeve',\n",
       "       'Net Weight per Total Number of Capsules', 'Capsule Image Link',\n",
       "       'Capsule & Sleeve Image Link', 'Decaf Coffee?', 'Category',\n",
       "       'Other Information', 'Status'],\n",
       "      dtype='object')"
      ]
     },
     "execution_count": 4,
     "metadata": {},
     "output_type": "execute_result"
    }
   ],
   "source": [
    "df.columns"
   ]
  },
  {
   "cell_type": "markdown",
   "metadata": {},
   "source": [
    "# **Data Cleaning**"
   ]
  },
  {
   "cell_type": "code",
   "execution_count": 5,
   "metadata": {},
   "outputs": [],
   "source": [
    "# HANDLE NULL INTENSITY COLUMN VALUES\n",
    "# Carafe Pour-Over Style Mild = 5\n",
    "# Carafe Pour-Over Style = 7\n",
    "# Bianco Forte Intensity = 7\n",
    "# All other Barista Creations = 6\n",
    "nullIntensityRowIDs = df[df['Intensity'].isnull()].index.to_list();\n",
    "for id in nullIntensityRowIDs:\n",
    "    if df.loc[id, 'Name'] == \"Carafe Pour-Over Style Mild\":\n",
    "        df.loc[id, 'Intensity'] = 5;\n",
    "    elif (df.loc[id, 'Name'] == \"Carafe Pour-Over Style\") | (df.loc[id, 'Name'] == \"Bianco Forte\"):\n",
    "        df.loc[id, 'Intensity'] = 7;\n",
    "    else:\n",
    "        df.loc[id, 'Intensity'] = 6;"
   ]
  },
  {
   "cell_type": "code",
   "execution_count": 6,
   "metadata": {},
   "outputs": [],
   "source": [
    "# HANDLE NULL ACIDITY, BITTERNESS, ROASTNESS, AND BODY VALUES\n",
    "# All null values are of category 'Barista Creations', so will set them to 3 as it respective to the middle of the scale between 1 to 5\n",
    "\n",
    "if (df[df['Acidity'].isnull()].index.tolist() == df[df['Bitterness'].isnull()].index.tolist() == df[df['Roastness'].isnull()].index.tolist() == df[df['Body'].isnull().tolist()].index.tolist()) == True:\n",
    "    nullRowIDs = df[df['Acidity'].isnull()].index.tolist();\n",
    "    df.loc[nullRowIDs, ['Acidity','Bitterness','Roastness','Body']] = 3;\n",
    "else:\n",
    "    print(\"Invalid. Handle null values manually.\")"
   ]
  },
  {
   "cell_type": "code",
   "execution_count": 7,
   "metadata": {},
   "outputs": [],
   "source": [
    "# HANDLE NULL MILKY TASTE, BITTERNESS WITH MILK, ROASTINESS WITH MILK, AND CREAMY TEXTURE VALUES\n",
    "# All null values are of all other categories besides 'Barista Creations', so will set them to 3 as it respective to the middle of the scale between 1 to 5\n",
    "\n",
    "if (df[df['Milky Taste'].isnull()].index.tolist() == df[df['Bitterness with Milk'].isnull()].index.tolist() == df[df['Roastiness with Milk'].isnull()].index.tolist() == df[df['Creamy Texture'].isnull().tolist()].index.tolist()) == True:\n",
    "    nullRowIDs = df[df['Milky Taste'].isnull()].index.tolist();\n",
    "    df.loc[nullRowIDs, ['Milky Taste','Bitterness with Milk','Roastiness with Milk','Creamy Texture']] = 3;\n",
    "else:\n",
    "    print(\"Invalid. Handle null values manually.\")"
   ]
  },
  {
   "cell_type": "code",
   "execution_count": 8,
   "metadata": {},
   "outputs": [],
   "source": [
    "# Light Roast: 1 to 4\n",
    "# Medium Roast: 5 to 8\n",
    "# Dark Roast: 9 to 13\n",
    "\n",
    "def determineIntensityClassification(intensity):\n",
    "    if (intensity > 0) & (intensity < 5):\n",
    "        return \"Low\";\n",
    "    elif (intensity >= 5) & (intensity <= 8):\n",
    "        return \"Medium\";\n",
    "    else:\n",
    "        return \"High\";\n",
    "df[\"Intensity Classification\"] = df.apply(lambda x: determineIntensityClassification(x['Intensity']), axis=1);"
   ]
  },
  {
   "cell_type": "code",
   "execution_count": 9,
   "metadata": {},
   "outputs": [],
   "source": [
    "# Low Taste Profile Level = 1 to 2\n",
    "# Medium Taste Profile Level = 3 to 4\n",
    "# High Taste Profile Level = 5\n",
    "\n",
    "def determineTasteProfileClassification(tasteProfileValue):\n",
    "    if (tasteProfileValue > 0) & (tasteProfileValue < 3):\n",
    "        return \"Low\";\n",
    "    elif (tasteProfileValue >= 3) & (tasteProfileValue <= 4):\n",
    "        return \"Medium\";\n",
    "    else:\n",
    "        return \"High\";\n",
    "        \n",
    "for col in ['Acidity','Bitterness','Roastness','Body']:\n",
    "    df[col + \" Classification\"] = df.apply(lambda x: determineTasteProfileClassification(x[col]), axis=1);"
   ]
  },
  {
   "cell_type": "code",
   "execution_count": 10,
   "metadata": {},
   "outputs": [],
   "source": [
    "# Low Taste Profile with Milk Level = 1 to 2\n",
    "# Medium Taste Profile with Milk Level = 3 to 4\n",
    "# High Taste Profile with Milk Level = 5\n",
    "\n",
    "def determineTasteProfileWithMilkClassification(tasteProfileWithMilkValue):\n",
    "    if (tasteProfileWithMilkValue > 0) & (tasteProfileWithMilkValue < 3):\n",
    "        return \"Low\";\n",
    "    elif (tasteProfileWithMilkValue >= 3) & (tasteProfileWithMilkValue <= 4):\n",
    "        return \"Medium\";\n",
    "    else:\n",
    "        return \"High\";\n",
    "for col in ['Milky Taste', 'Bitterness with Milk', 'Roastiness with Milk',\n",
    "'Creamy Texture']:\n",
    "    df[col + \" Classification\"] = df.apply(lambda x: determineTasteProfileWithMilkClassification(x[col]), axis=1);"
   ]
  },
  {
   "cell_type": "code",
   "execution_count": 11,
   "metadata": {},
   "outputs": [
    {
     "name": "stdout",
     "output_type": "stream",
     "text": [
      "<class 'pandas.core.frame.DataFrame'>\n",
      "RangeIndex: 70 entries, 0 to 69\n",
      "Data columns (total 39 columns):\n",
      " #   Column                                   Non-Null Count  Dtype  \n",
      "---  ------                                   --------------  -----  \n",
      " 0   ID                                       70 non-null     object \n",
      " 1   Name                                     70 non-null     object \n",
      " 2   Type                                     70 non-null     object \n",
      " 3   Serving                                  70 non-null     object \n",
      " 4   Serving Size                             70 non-null     object \n",
      " 5   Headline                                 70 non-null     object \n",
      " 6   Intensity                                70 non-null     float64\n",
      " 7   Sleeve Price                             70 non-null     float64\n",
      " 8   Per Capsule Price                        70 non-null     float64\n",
      " 9   Caption                                  70 non-null     object \n",
      " 10  Taste                                    70 non-null     object \n",
      " 11  Best Served As                           70 non-null     object \n",
      " 12  Notes                                    70 non-null     object \n",
      " 13  Acidity                                  70 non-null     float64\n",
      " 14  Bitterness                               70 non-null     float64\n",
      " 15  Roastness                                70 non-null     float64\n",
      " 16  Body                                     70 non-null     float64\n",
      " 17  Milky Taste                              70 non-null     float64\n",
      " 18  Bitterness with Milk                     70 non-null     float64\n",
      " 19  Roastiness with Milk                     70 non-null     float64\n",
      " 20  Creamy Texture                           70 non-null     float64\n",
      " 21  Ingredients & Allergens                  70 non-null     object \n",
      " 22  Number of Capsules per Sleeve            70 non-null     int64  \n",
      " 23  Net Weight per Total Number of Capsules  70 non-null     object \n",
      " 24  Capsule Image Link                       70 non-null     object \n",
      " 25  Capsule & Sleeve Image Link              70 non-null     object \n",
      " 26  Decaf Coffee?                            70 non-null     object \n",
      " 27  Category                                 70 non-null     object \n",
      " 28  Other Information                        4 non-null      object \n",
      " 29  Status                                   70 non-null     object \n",
      " 30  Intensity Classification                 70 non-null     object \n",
      " 31  Acidity Classification                   70 non-null     object \n",
      " 32  Bitterness Classification                70 non-null     object \n",
      " 33  Roastness Classification                 70 non-null     object \n",
      " 34  Body Classification                      70 non-null     object \n",
      " 35  Milky Taste Classification               70 non-null     object \n",
      " 36  Bitterness with Milk Classification      70 non-null     object \n",
      " 37  Roastiness with Milk Classification      70 non-null     object \n",
      " 38  Creamy Texture Classification            70 non-null     object \n",
      "dtypes: float64(11), int64(1), object(27)\n",
      "memory usage: 21.5+ KB\n"
     ]
    }
   ],
   "source": [
    "df.info()"
   ]
  },
  {
   "cell_type": "code",
   "execution_count": 12,
   "metadata": {},
   "outputs": [
    {
     "data": {
      "text/plain": [
       "Index(['ID', 'Name', 'Type', 'Serving', 'Serving Size', 'Headline',\n",
       "       'Intensity', 'Sleeve Price', 'Per Capsule Price', 'Caption', 'Taste',\n",
       "       'Best Served As', 'Notes', 'Acidity', 'Bitterness', 'Roastness', 'Body',\n",
       "       'Milky Taste', 'Bitterness with Milk', 'Roastiness with Milk',\n",
       "       'Creamy Texture', 'Ingredients & Allergens',\n",
       "       'Number of Capsules per Sleeve',\n",
       "       'Net Weight per Total Number of Capsules', 'Capsule Image Link',\n",
       "       'Capsule & Sleeve Image Link', 'Decaf Coffee?', 'Category',\n",
       "       'Other Information', 'Status', 'Intensity Classification',\n",
       "       'Acidity Classification', 'Bitterness Classification',\n",
       "       'Roastness Classification', 'Body Classification',\n",
       "       'Milky Taste Classification', 'Bitterness with Milk Classification',\n",
       "       'Roastiness with Milk Classification', 'Creamy Texture Classification'],\n",
       "      dtype='object')"
      ]
     },
     "execution_count": 12,
     "metadata": {},
     "output_type": "execute_result"
    }
   ],
   "source": [
    "df.columns"
   ]
  },
  {
   "cell_type": "markdown",
   "metadata": {},
   "source": [
    "# **NLP Pre-Processing**"
   ]
  },
  {
   "cell_type": "code",
   "execution_count": 13,
   "metadata": {},
   "outputs": [],
   "source": [
    "NLP_Columns = [\n",
    "    'Type', \n",
    "    'Serving', \n",
    "    'Serving Size', \n",
    "    'Headline',\n",
    "    'Caption', \n",
    "    'Taste',\n",
    "    'Best Served As', \n",
    "    'Notes', \n",
    "    'Category',\n",
    "    'Intensity Classification',\n",
    "    'Acidity Classification', \n",
    "    'Bitterness Classification',\n",
    "    'Roastness Classification', \n",
    "    'Body Classification',\n",
    "    'Milky Taste Classification', \n",
    "    'Bitterness with Milk Classification',\n",
    "    'Roastiness with Milk Classification', \n",
    "    'Creamy Texture Classification'\n",
    "];"
   ]
  },
  {
   "cell_type": "code",
   "execution_count": 14,
   "metadata": {},
   "outputs": [],
   "source": [
    "def process_text_for_NLP(df, NLP_Columns):\n",
    "    df[\"Textual Info\"] = \"\";\n",
    "    for i in df.index:\n",
    "        textualInfo = \"\";\n",
    "        for col in NLP_Columns:\n",
    "            textualInfo += str(df.loc[i, col]).lower() + \" \";\n",
    "        textualInfo = textualInfo[:-1];\n",
    "        textualInfo_tokens = word_tokenize(textualInfo);\n",
    "        textualInfo_cleanedTokens = [];\n",
    "        for token in textualInfo_tokens:\n",
    "            token = lemmatizer.lemmatize(token, pos=\"a\");\n",
    "            if (token not in stop_words) and (token not in punctuation):\n",
    "                token = re.sub(r'[^\\w\\s]', '', token);\n",
    "                if token != '':\n",
    "                    if str(nlp(token)[0].pos_) not in [\"PNP\",\"PNQ\",\"PNX\",\"POS\",\"AVQ\",\"CJC\",\"CJS\",\"CJT\",\"DTQ\",\"ITJ\",\"PRF\",\"PRP\"]:\n",
    "                        textualInfo_cleanedTokens.append(token);\n",
    "        textualInfo_final = \"\";\n",
    "        for token in textualInfo_cleanedTokens:\n",
    "            textualInfo_final += token + \" \";\n",
    "        textualInfo_final = textualInfo_final[:-1];\n",
    "        df.loc[i, \"Textual Info\"] = textualInfo_final;\n",
    "    \n",
    "    return df;\n",
    "\n",
    "df_Final = process_text_for_NLP(df, NLP_Columns);"
   ]
  },
  {
   "cell_type": "code",
   "execution_count": 15,
   "metadata": {},
   "outputs": [
    {
     "data": {
      "text/html": [
       "<div>\n",
       "<style scoped>\n",
       "    .dataframe tbody tr th:only-of-type {\n",
       "        vertical-align: middle;\n",
       "    }\n",
       "\n",
       "    .dataframe tbody tr th {\n",
       "        vertical-align: top;\n",
       "    }\n",
       "\n",
       "    .dataframe thead th {\n",
       "        text-align: right;\n",
       "    }\n",
       "</style>\n",
       "<table border=\"1\" class=\"dataframe\">\n",
       "  <thead>\n",
       "    <tr style=\"text-align: right;\">\n",
       "      <th></th>\n",
       "      <th>ID</th>\n",
       "      <th>Name</th>\n",
       "      <th>Type</th>\n",
       "      <th>Serving</th>\n",
       "      <th>Serving Size</th>\n",
       "      <th>Headline</th>\n",
       "      <th>Intensity</th>\n",
       "      <th>Sleeve Price</th>\n",
       "      <th>Per Capsule Price</th>\n",
       "      <th>Caption</th>\n",
       "      <th>...</th>\n",
       "      <th>Intensity Classification</th>\n",
       "      <th>Acidity Classification</th>\n",
       "      <th>Bitterness Classification</th>\n",
       "      <th>Roastness Classification</th>\n",
       "      <th>Body Classification</th>\n",
       "      <th>Milky Taste Classification</th>\n",
       "      <th>Bitterness with Milk Classification</th>\n",
       "      <th>Roastiness with Milk Classification</th>\n",
       "      <th>Creamy Texture Classification</th>\n",
       "      <th>Textual Info</th>\n",
       "    </tr>\n",
       "  </thead>\n",
       "  <tbody>\n",
       "    <tr>\n",
       "      <th>0</th>\n",
       "      <td>VL01</td>\n",
       "      <td>Intenso</td>\n",
       "      <td>Vertuo</td>\n",
       "      <td>Coffee</td>\n",
       "      <td>230ml</td>\n",
       "      <td>Smooth &amp; Strong</td>\n",
       "      <td>9.0</td>\n",
       "      <td>12.6</td>\n",
       "      <td>1.26</td>\n",
       "      <td>Why we love it: Try Intenso - a Vertuo coffee ...</td>\n",
       "      <td>...</td>\n",
       "      <td>High</td>\n",
       "      <td>Low</td>\n",
       "      <td>Medium</td>\n",
       "      <td>High</td>\n",
       "      <td>Medium</td>\n",
       "      <td>Medium</td>\n",
       "      <td>Medium</td>\n",
       "      <td>Medium</td>\n",
       "      <td>Medium</td>\n",
       "      <td>vertuo coffee 230ml smooth strong love try int...</td>\n",
       "    </tr>\n",
       "  </tbody>\n",
       "</table>\n",
       "<p>1 rows × 40 columns</p>\n",
       "</div>"
      ],
      "text/plain": [
       "     ID     Name    Type Serving Serving Size         Headline  Intensity  \\\n",
       "0  VL01  Intenso  Vertuo  Coffee        230ml  Smooth & Strong        9.0   \n",
       "\n",
       "   Sleeve Price  Per Capsule Price  \\\n",
       "0          12.6               1.26   \n",
       "\n",
       "                                             Caption  ...  \\\n",
       "0  Why we love it: Try Intenso - a Vertuo coffee ...  ...   \n",
       "\n",
       "  Intensity Classification Acidity Classification Bitterness Classification  \\\n",
       "0                     High                    Low                    Medium   \n",
       "\n",
       "   Roastness Classification  Body Classification  Milky Taste Classification  \\\n",
       "0                      High               Medium                      Medium   \n",
       "\n",
       "   Bitterness with Milk Classification  Roastiness with Milk Classification  \\\n",
       "0                               Medium                               Medium   \n",
       "\n",
       "   Creamy Texture Classification  \\\n",
       "0                         Medium   \n",
       "\n",
       "                                        Textual Info  \n",
       "0  vertuo coffee 230ml smooth strong love try int...  \n",
       "\n",
       "[1 rows x 40 columns]"
      ]
     },
     "execution_count": 15,
     "metadata": {},
     "output_type": "execute_result"
    }
   ],
   "source": [
    "df_Final.head(1)"
   ]
  },
  {
   "cell_type": "markdown",
   "metadata": {},
   "source": [
    "# **Export the Data**"
   ]
  },
  {
   "cell_type": "code",
   "execution_count": 16,
   "metadata": {},
   "outputs": [],
   "source": [
    "df_Final.to_csv(\"../data/PreparedCoffeeData.csv\", index=False);"
   ]
  }
 ],
 "metadata": {
  "kernelspec": {
   "display_name": "Python 3.10.1 64-bit",
   "language": "python",
   "name": "python3"
  },
  "language_info": {
   "codemirror_mode": {
    "name": "ipython",
    "version": 3
   },
   "file_extension": ".py",
   "mimetype": "text/x-python",
   "name": "python",
   "nbconvert_exporter": "python",
   "pygments_lexer": "ipython3",
   "version": "3.10.1"
  },
  "orig_nbformat": 4,
  "vscode": {
   "interpreter": {
    "hash": "07fcc30a38d1ecd00416a20ffc3bb9ba1ff350e42774c526eac392e139b99617"
   }
  }
 },
 "nbformat": 4,
 "nbformat_minor": 2
}
