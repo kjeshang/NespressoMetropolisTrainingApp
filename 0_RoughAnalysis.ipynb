{
 "cells": [
  {
   "cell_type": "markdown",
   "metadata": {},
   "source": [
    "# **Rough Analysis**"
   ]
  },
  {
   "cell_type": "markdown",
   "metadata": {},
   "source": [
    "This Jupyter Notebook consists of my first attempt of this project. It can be considered an exploration of a personal project idea that eventually became my CSIS 3290 Machine Learning Project."
   ]
  },
  {
   "cell_type": "markdown",
   "metadata": {},
   "source": [
    "## **Setup**"
   ]
  },
  {
   "cell_type": "code",
   "execution_count": 2,
   "metadata": {},
   "outputs": [],
   "source": [
    "import pandas as pd\n",
    "import numpy as np\n",
    "from time import time\n",
    "from nltk.corpus import stopwords\n",
    "stop_words = set(stopwords.words('english'))\n",
    "from string import punctuation\n",
    "punctuation = list(punctuation)\n",
    "from nltk.tokenize import word_tokenize\n",
    "from nltk.stem import WordNetLemmatizer\n",
    "from nltk import pos_tag\n",
    "import re\n",
    "lemmatizer = WordNetLemmatizer()\n",
    "from wordcloud import WordCloud\n",
    "import spacy\n",
    "import en_core_web_sm\n",
    "nlp = en_core_web_sm.load()\n",
    "\n",
    "from sklearn.model_selection import train_test_split, GridSearchCV\n",
    "from sklearn.feature_extraction.text import TfidfVectorizer, CountVectorizer, TfidfTransformer\n",
    "from sklearn.metrics.pairwise import linear_kernel, cosine_similarity\n",
    "from sklearn.feature_selection import chi2\n",
    "from sklearn.naive_bayes import MultinomialNB\n",
    "from sklearn.metrics import accuracy_score\n",
    "from sklearn.pipeline import Pipeline\n",
    "\n",
    "import matplotlib.pyplot as plt\n",
    "%matplotlib inline\n",
    "import seaborn as sns\n",
    "import plotly.express as px\n",
    "\n",
    "from sklearn import feature_extraction, model_selection, naive_bayes, pipeline, manifold, preprocessing"
   ]
  },
  {
   "cell_type": "markdown",
   "metadata": {},
   "source": [
    "## **Vertuo**\n",
    "Example Coffee: Intenso"
   ]
  },
  {
   "cell_type": "markdown",
   "metadata": {},
   "source": [
    "### Data Preparation"
   ]
  },
  {
   "cell_type": "code",
   "execution_count": 3,
   "metadata": {},
   "outputs": [
    {
     "name": "stdout",
     "output_type": "stream",
     "text": [
      "Index(['ID', 'Name', 'Type', 'Serving', 'Serving Size', 'Headline',\n",
      "       'Intensity', 'Sleeve Price', 'Per Capsule Price', 'Caption', 'Taste',\n",
      "       'Best Served As', 'Notes', 'Acidity', 'Bitterness', 'Roastness', 'Body',\n",
      "       'Milky Taste', 'Bitterness with Milk', 'Roastiness with Milk',\n",
      "       'Creamy Texture', 'Ingredients & Allergens',\n",
      "       'Number of Capsules per Sleeve',\n",
      "       'Net Weight per Total Number of Capsules', 'Capsule Image Link',\n",
      "       'Capsule & Sleeve Image Link', 'Decaf Coffee?', 'Category',\n",
      "       'Other Information', 'Status'],\n",
      "      dtype='object')\n"
     ]
    },
    {
     "data": {
      "text/html": [
       "<div>\n",
       "<style scoped>\n",
       "    .dataframe tbody tr th:only-of-type {\n",
       "        vertical-align: middle;\n",
       "    }\n",
       "\n",
       "    .dataframe tbody tr th {\n",
       "        vertical-align: top;\n",
       "    }\n",
       "\n",
       "    .dataframe thead th {\n",
       "        text-align: right;\n",
       "    }\n",
       "</style>\n",
       "<table border=\"1\" class=\"dataframe\">\n",
       "  <thead>\n",
       "    <tr style=\"text-align: right;\">\n",
       "      <th></th>\n",
       "      <th>ID</th>\n",
       "      <th>Name</th>\n",
       "      <th>Type</th>\n",
       "      <th>Serving</th>\n",
       "      <th>Serving Size</th>\n",
       "      <th>Headline</th>\n",
       "      <th>Intensity</th>\n",
       "      <th>Sleeve Price</th>\n",
       "      <th>Per Capsule Price</th>\n",
       "      <th>Caption</th>\n",
       "      <th>...</th>\n",
       "      <th>Creamy Texture</th>\n",
       "      <th>Ingredients &amp; Allergens</th>\n",
       "      <th>Number of Capsules per Sleeve</th>\n",
       "      <th>Net Weight per Total Number of Capsules</th>\n",
       "      <th>Capsule Image Link</th>\n",
       "      <th>Capsule &amp; Sleeve Image Link</th>\n",
       "      <th>Decaf Coffee?</th>\n",
       "      <th>Category</th>\n",
       "      <th>Other Information</th>\n",
       "      <th>Status</th>\n",
       "    </tr>\n",
       "  </thead>\n",
       "  <tbody>\n",
       "    <tr>\n",
       "      <th>0</th>\n",
       "      <td>VL01</td>\n",
       "      <td>Intenso</td>\n",
       "      <td>Vertuo</td>\n",
       "      <td>Coffee</td>\n",
       "      <td>230ml</td>\n",
       "      <td>Smooth &amp; Strong</td>\n",
       "      <td>9.0</td>\n",
       "      <td>12.6</td>\n",
       "      <td>1.26</td>\n",
       "      <td>Why we love it: Try Intenso - a Vertuo coffee ...</td>\n",
       "      <td>...</td>\n",
       "      <td>NaN</td>\n",
       "      <td>Roast and ground coffee</td>\n",
       "      <td>10</td>\n",
       "      <td>125 g</td>\n",
       "      <td>https://www.nespresso.com/ecom/medias/sys_mast...</td>\n",
       "      <td>https://www.nespresso.com/shared_res/agility/n...</td>\n",
       "      <td>No</td>\n",
       "      <td>Signature Coffee</td>\n",
       "      <td>NaN</td>\n",
       "      <td>Current</td>\n",
       "    </tr>\n",
       "  </tbody>\n",
       "</table>\n",
       "<p>1 rows × 30 columns</p>\n",
       "</div>"
      ],
      "text/plain": [
       "     ID     Name    Type Serving Serving Size         Headline  Intensity  \\\n",
       "0  VL01  Intenso  Vertuo  Coffee        230ml  Smooth & Strong        9.0   \n",
       "\n",
       "   Sleeve Price  Per Capsule Price  \\\n",
       "0          12.6               1.26   \n",
       "\n",
       "                                             Caption  ... Creamy Texture  \\\n",
       "0  Why we love it: Try Intenso - a Vertuo coffee ...  ...            NaN   \n",
       "\n",
       "   Ingredients & Allergens Number of Capsules per Sleeve  \\\n",
       "0  Roast and ground coffee                            10   \n",
       "\n",
       "   Net Weight per Total Number of Capsules  \\\n",
       "0                                    125 g   \n",
       "\n",
       "                                  Capsule Image Link  \\\n",
       "0  https://www.nespresso.com/ecom/medias/sys_mast...   \n",
       "\n",
       "                         Capsule & Sleeve Image Link  Decaf Coffee?  \\\n",
       "0  https://www.nespresso.com/shared_res/agility/n...             No   \n",
       "\n",
       "           Category  Other Information   Status  \n",
       "0  Signature Coffee                NaN  Current  \n",
       "\n",
       "[1 rows x 30 columns]"
      ]
     },
     "execution_count": 3,
     "metadata": {},
     "output_type": "execute_result"
    }
   ],
   "source": [
    "dfVertuo_Raw = pd.read_excel(\"Dataset/CoffeeData.xlsx\", index_col=False, sheet_name=\"Vertuo\");\n",
    "dfVertuo_Raw = dfVertuo_Raw[dfVertuo_Raw[\"Status\"] == \"Current\"];\n",
    "print(dfVertuo_Raw.columns)\n",
    "dfVertuo_Raw[0:1]"
   ]
  },
  {
   "cell_type": "code",
   "execution_count": 4,
   "metadata": {},
   "outputs": [
    {
     "name": "stdout",
     "output_type": "stream",
     "text": [
      "coffee smooth strong love try intenso vertuo coffee dense dark night glowing golden brown sugar notes blend guatemalan washed robusta coffee beans latin american arabica thick roasted notes lingering finish split roast nespresso intenso blend arabicas get dark roast low acidity bring brown sugar aroma guatemalan coffee gets long roast develop robusta coffee beans bold bitter notes intense long black distinctly lingering aftertaste thick coffee crema coffee 230ml intense signature coffee\n"
     ]
    },
    {
     "data": {
      "text/html": [
       "<div>\n",
       "<style scoped>\n",
       "    .dataframe tbody tr th:only-of-type {\n",
       "        vertical-align: middle;\n",
       "    }\n",
       "\n",
       "    .dataframe tbody tr th {\n",
       "        vertical-align: top;\n",
       "    }\n",
       "\n",
       "    .dataframe thead th {\n",
       "        text-align: right;\n",
       "    }\n",
       "</style>\n",
       "<table border=\"1\" class=\"dataframe\">\n",
       "  <thead>\n",
       "    <tr style=\"text-align: right;\">\n",
       "      <th></th>\n",
       "      <th>ID</th>\n",
       "      <th>Name</th>\n",
       "      <th>Type</th>\n",
       "      <th>Serving</th>\n",
       "      <th>Serving Size</th>\n",
       "      <th>Headline</th>\n",
       "      <th>Intensity</th>\n",
       "      <th>Sleeve Price</th>\n",
       "      <th>Per Capsule Price</th>\n",
       "      <th>Caption</th>\n",
       "      <th>...</th>\n",
       "      <th>Ingredients &amp; Allergens</th>\n",
       "      <th>Number of Capsules per Sleeve</th>\n",
       "      <th>Net Weight per Total Number of Capsules</th>\n",
       "      <th>Capsule Image Link</th>\n",
       "      <th>Capsule &amp; Sleeve Image Link</th>\n",
       "      <th>Decaf Coffee?</th>\n",
       "      <th>Category</th>\n",
       "      <th>Other Information</th>\n",
       "      <th>Status</th>\n",
       "      <th>Textual Info</th>\n",
       "    </tr>\n",
       "  </thead>\n",
       "  <tbody>\n",
       "    <tr>\n",
       "      <th>0</th>\n",
       "      <td>VL01</td>\n",
       "      <td>Intenso</td>\n",
       "      <td>Vertuo</td>\n",
       "      <td>Coffee</td>\n",
       "      <td>230ml</td>\n",
       "      <td>Smooth &amp; Strong</td>\n",
       "      <td>9.0</td>\n",
       "      <td>12.6</td>\n",
       "      <td>1.26</td>\n",
       "      <td>Why we love it: Try Intenso - a Vertuo coffee ...</td>\n",
       "      <td>...</td>\n",
       "      <td>Roast and ground coffee</td>\n",
       "      <td>10</td>\n",
       "      <td>125 g</td>\n",
       "      <td>https://www.nespresso.com/ecom/medias/sys_mast...</td>\n",
       "      <td>https://www.nespresso.com/shared_res/agility/n...</td>\n",
       "      <td>No</td>\n",
       "      <td>Signature Coffee</td>\n",
       "      <td>NaN</td>\n",
       "      <td>Current</td>\n",
       "      <td>coffee smooth strong love try intenso vertuo c...</td>\n",
       "    </tr>\n",
       "  </tbody>\n",
       "</table>\n",
       "<p>1 rows × 31 columns</p>\n",
       "</div>"
      ],
      "text/plain": [
       "     ID     Name    Type Serving Serving Size         Headline  Intensity  \\\n",
       "0  VL01  Intenso  Vertuo  Coffee        230ml  Smooth & Strong        9.0   \n",
       "\n",
       "   Sleeve Price  Per Capsule Price  \\\n",
       "0          12.6               1.26   \n",
       "\n",
       "                                             Caption  ...  \\\n",
       "0  Why we love it: Try Intenso - a Vertuo coffee ...  ...   \n",
       "\n",
       "   Ingredients & Allergens Number of Capsules per Sleeve  \\\n",
       "0  Roast and ground coffee                            10   \n",
       "\n",
       "  Net Weight per Total Number of Capsules  \\\n",
       "0                                   125 g   \n",
       "\n",
       "                                  Capsule Image Link  \\\n",
       "0  https://www.nespresso.com/ecom/medias/sys_mast...   \n",
       "\n",
       "                         Capsule & Sleeve Image Link  Decaf Coffee?  \\\n",
       "0  https://www.nespresso.com/shared_res/agility/n...             No   \n",
       "\n",
       "           Category  Other Information   Status  \\\n",
       "0  Signature Coffee                NaN  Current   \n",
       "\n",
       "                                        Textual Info  \n",
       "0  coffee smooth strong love try intenso vertuo c...  \n",
       "\n",
       "[1 rows x 31 columns]"
      ]
     },
     "execution_count": 4,
     "metadata": {},
     "output_type": "execute_result"
    }
   ],
   "source": [
    "def process_text_for_NLP_Vertuo(df_Raw):\n",
    "    # Columns used for NLP:\n",
    "    # NLPColumns_Vertuo = [\"Type\",\"Serving\",\"Headline\",\"Caption\",\"Taste\",\"Best Served As\",\"Notes\",\"Ingredients & Allergens\",\"Category\"];\n",
    "    NLPColumns_Vertuo = [\"Serving\",\"Headline\",\"Caption\",\"Taste\",\"Best Served As\",\"Notes\",\"Category\"];\n",
    "\n",
    "    # NLP Pre-Processing:\n",
    "    df_Prep = df_Raw.copy();\n",
    "    df_Prep[\"Textual Info\"] = \"\";\n",
    "    for i in df_Prep.index:\n",
    "        textualInfo = \"\";\n",
    "        for col in NLPColumns_Vertuo:\n",
    "            textualInfo += str(df_Prep.loc[i, col]).lower() + \" \";\n",
    "        textualInfo = textualInfo[:-1];\n",
    "        textualInfo_tokens = word_tokenize(textualInfo);\n",
    "        textualInfo_cleanedTokens = [];\n",
    "        for token in textualInfo_tokens:\n",
    "            token = lemmatizer.lemmatize(token, pos=\"a\");\n",
    "            if (token not in stop_words) and (token not in punctuation):\n",
    "                token = re.sub(r'[^\\w\\s]', '', token);\n",
    "                if token != '':\n",
    "                    # textualInfo_cleanedTokens.append(token);\n",
    "                    if str(nlp(token)[0].pos_) not in [\"PNP\",\"PNQ\",\"PNX\",\"POS\",\"AVQ\",\"CJC\",\"CJS\",\"CJT\",\"DTQ\",\"ITJ\",\"PRF\",\"PRP\"]:\n",
    "                        textualInfo_cleanedTokens.append(token);\n",
    "        textualInfo_final = \"\";\n",
    "        for token in textualInfo_cleanedTokens:\n",
    "            textualInfo_final += token + \" \";\n",
    "        textualInfo_final = textualInfo_final[:-1];\n",
    "        df_Prep.loc[i, \"Textual Info\"] = textualInfo_final;\n",
    "    \n",
    "    return df_Prep;\n",
    "\n",
    "dfVertuo_Prep = process_text_for_NLP_Vertuo(dfVertuo_Raw);\n",
    "print(dfVertuo_Prep.loc[0, \"Textual Info\"]);\n",
    "dfVertuo_Prep[0:1]"
   ]
  },
  {
   "cell_type": "code",
   "execution_count": 5,
   "metadata": {},
   "outputs": [
    {
     "data": {
      "application/vnd.plotly.v1+json": {
       "config": {
        "plotlyServerURL": "https://plot.ly"
       },
       "data": [
        {
         "alignmentgroup": "True",
         "hovertemplate": "Coffee=Intenso<br>Metric=%{x}<br>Value=%{y}<extra></extra>",
         "legendgroup": "Intenso",
         "marker": {
          "color": "#636efa",
          "pattern": {
           "shape": ""
          }
         },
         "name": "Intenso",
         "offsetgroup": "Intenso",
         "orientation": "v",
         "showlegend": true,
         "textposition": "auto",
         "type": "bar",
         "x": [
          "Acidity",
          "Bitterness",
          "Roastness",
          "Body"
         ],
         "xaxis": "x",
         "y": [
          1,
          4,
          5,
          3
         ],
         "yaxis": "y"
        },
        {
         "alignmentgroup": "True",
         "hovertemplate": "Coffee=Melozio<br>Metric=%{x}<br>Value=%{y}<extra></extra>",
         "legendgroup": "Melozio",
         "marker": {
          "color": "#EF553B",
          "pattern": {
           "shape": ""
          }
         },
         "name": "Melozio",
         "offsetgroup": "Melozio",
         "orientation": "v",
         "showlegend": true,
         "textposition": "auto",
         "type": "bar",
         "x": [
          "Acidity",
          "Bitterness",
          "Roastness",
          "Body"
         ],
         "xaxis": "x",
         "y": [
          1,
          2,
          3,
          3
         ],
         "yaxis": "y"
        }
       ],
       "layout": {
        "barmode": "group",
        "legend": {
         "title": {
          "text": "Coffee"
         },
         "tracegroupgap": 0
        },
        "margin": {
         "t": 60
        },
        "template": {
         "data": {
          "bar": [
           {
            "error_x": {
             "color": "#2a3f5f"
            },
            "error_y": {
             "color": "#2a3f5f"
            },
            "marker": {
             "line": {
              "color": "#E5ECF6",
              "width": 0.5
             },
             "pattern": {
              "fillmode": "overlay",
              "size": 10,
              "solidity": 0.2
             }
            },
            "type": "bar"
           }
          ],
          "barpolar": [
           {
            "marker": {
             "line": {
              "color": "#E5ECF6",
              "width": 0.5
             },
             "pattern": {
              "fillmode": "overlay",
              "size": 10,
              "solidity": 0.2
             }
            },
            "type": "barpolar"
           }
          ],
          "carpet": [
           {
            "aaxis": {
             "endlinecolor": "#2a3f5f",
             "gridcolor": "white",
             "linecolor": "white",
             "minorgridcolor": "white",
             "startlinecolor": "#2a3f5f"
            },
            "baxis": {
             "endlinecolor": "#2a3f5f",
             "gridcolor": "white",
             "linecolor": "white",
             "minorgridcolor": "white",
             "startlinecolor": "#2a3f5f"
            },
            "type": "carpet"
           }
          ],
          "choropleth": [
           {
            "colorbar": {
             "outlinewidth": 0,
             "ticks": ""
            },
            "type": "choropleth"
           }
          ],
          "contour": [
           {
            "colorbar": {
             "outlinewidth": 0,
             "ticks": ""
            },
            "colorscale": [
             [
              0,
              "#0d0887"
             ],
             [
              0.1111111111111111,
              "#46039f"
             ],
             [
              0.2222222222222222,
              "#7201a8"
             ],
             [
              0.3333333333333333,
              "#9c179e"
             ],
             [
              0.4444444444444444,
              "#bd3786"
             ],
             [
              0.5555555555555556,
              "#d8576b"
             ],
             [
              0.6666666666666666,
              "#ed7953"
             ],
             [
              0.7777777777777778,
              "#fb9f3a"
             ],
             [
              0.8888888888888888,
              "#fdca26"
             ],
             [
              1,
              "#f0f921"
             ]
            ],
            "type": "contour"
           }
          ],
          "contourcarpet": [
           {
            "colorbar": {
             "outlinewidth": 0,
             "ticks": ""
            },
            "type": "contourcarpet"
           }
          ],
          "heatmap": [
           {
            "colorbar": {
             "outlinewidth": 0,
             "ticks": ""
            },
            "colorscale": [
             [
              0,
              "#0d0887"
             ],
             [
              0.1111111111111111,
              "#46039f"
             ],
             [
              0.2222222222222222,
              "#7201a8"
             ],
             [
              0.3333333333333333,
              "#9c179e"
             ],
             [
              0.4444444444444444,
              "#bd3786"
             ],
             [
              0.5555555555555556,
              "#d8576b"
             ],
             [
              0.6666666666666666,
              "#ed7953"
             ],
             [
              0.7777777777777778,
              "#fb9f3a"
             ],
             [
              0.8888888888888888,
              "#fdca26"
             ],
             [
              1,
              "#f0f921"
             ]
            ],
            "type": "heatmap"
           }
          ],
          "heatmapgl": [
           {
            "colorbar": {
             "outlinewidth": 0,
             "ticks": ""
            },
            "colorscale": [
             [
              0,
              "#0d0887"
             ],
             [
              0.1111111111111111,
              "#46039f"
             ],
             [
              0.2222222222222222,
              "#7201a8"
             ],
             [
              0.3333333333333333,
              "#9c179e"
             ],
             [
              0.4444444444444444,
              "#bd3786"
             ],
             [
              0.5555555555555556,
              "#d8576b"
             ],
             [
              0.6666666666666666,
              "#ed7953"
             ],
             [
              0.7777777777777778,
              "#fb9f3a"
             ],
             [
              0.8888888888888888,
              "#fdca26"
             ],
             [
              1,
              "#f0f921"
             ]
            ],
            "type": "heatmapgl"
           }
          ],
          "histogram": [
           {
            "marker": {
             "pattern": {
              "fillmode": "overlay",
              "size": 10,
              "solidity": 0.2
             }
            },
            "type": "histogram"
           }
          ],
          "histogram2d": [
           {
            "colorbar": {
             "outlinewidth": 0,
             "ticks": ""
            },
            "colorscale": [
             [
              0,
              "#0d0887"
             ],
             [
              0.1111111111111111,
              "#46039f"
             ],
             [
              0.2222222222222222,
              "#7201a8"
             ],
             [
              0.3333333333333333,
              "#9c179e"
             ],
             [
              0.4444444444444444,
              "#bd3786"
             ],
             [
              0.5555555555555556,
              "#d8576b"
             ],
             [
              0.6666666666666666,
              "#ed7953"
             ],
             [
              0.7777777777777778,
              "#fb9f3a"
             ],
             [
              0.8888888888888888,
              "#fdca26"
             ],
             [
              1,
              "#f0f921"
             ]
            ],
            "type": "histogram2d"
           }
          ],
          "histogram2dcontour": [
           {
            "colorbar": {
             "outlinewidth": 0,
             "ticks": ""
            },
            "colorscale": [
             [
              0,
              "#0d0887"
             ],
             [
              0.1111111111111111,
              "#46039f"
             ],
             [
              0.2222222222222222,
              "#7201a8"
             ],
             [
              0.3333333333333333,
              "#9c179e"
             ],
             [
              0.4444444444444444,
              "#bd3786"
             ],
             [
              0.5555555555555556,
              "#d8576b"
             ],
             [
              0.6666666666666666,
              "#ed7953"
             ],
             [
              0.7777777777777778,
              "#fb9f3a"
             ],
             [
              0.8888888888888888,
              "#fdca26"
             ],
             [
              1,
              "#f0f921"
             ]
            ],
            "type": "histogram2dcontour"
           }
          ],
          "mesh3d": [
           {
            "colorbar": {
             "outlinewidth": 0,
             "ticks": ""
            },
            "type": "mesh3d"
           }
          ],
          "parcoords": [
           {
            "line": {
             "colorbar": {
              "outlinewidth": 0,
              "ticks": ""
             }
            },
            "type": "parcoords"
           }
          ],
          "pie": [
           {
            "automargin": true,
            "type": "pie"
           }
          ],
          "scatter": [
           {
            "fillpattern": {
             "fillmode": "overlay",
             "size": 10,
             "solidity": 0.2
            },
            "type": "scatter"
           }
          ],
          "scatter3d": [
           {
            "line": {
             "colorbar": {
              "outlinewidth": 0,
              "ticks": ""
             }
            },
            "marker": {
             "colorbar": {
              "outlinewidth": 0,
              "ticks": ""
             }
            },
            "type": "scatter3d"
           }
          ],
          "scattercarpet": [
           {
            "marker": {
             "colorbar": {
              "outlinewidth": 0,
              "ticks": ""
             }
            },
            "type": "scattercarpet"
           }
          ],
          "scattergeo": [
           {
            "marker": {
             "colorbar": {
              "outlinewidth": 0,
              "ticks": ""
             }
            },
            "type": "scattergeo"
           }
          ],
          "scattergl": [
           {
            "marker": {
             "colorbar": {
              "outlinewidth": 0,
              "ticks": ""
             }
            },
            "type": "scattergl"
           }
          ],
          "scattermapbox": [
           {
            "marker": {
             "colorbar": {
              "outlinewidth": 0,
              "ticks": ""
             }
            },
            "type": "scattermapbox"
           }
          ],
          "scatterpolar": [
           {
            "marker": {
             "colorbar": {
              "outlinewidth": 0,
              "ticks": ""
             }
            },
            "type": "scatterpolar"
           }
          ],
          "scatterpolargl": [
           {
            "marker": {
             "colorbar": {
              "outlinewidth": 0,
              "ticks": ""
             }
            },
            "type": "scatterpolargl"
           }
          ],
          "scatterternary": [
           {
            "marker": {
             "colorbar": {
              "outlinewidth": 0,
              "ticks": ""
             }
            },
            "type": "scatterternary"
           }
          ],
          "surface": [
           {
            "colorbar": {
             "outlinewidth": 0,
             "ticks": ""
            },
            "colorscale": [
             [
              0,
              "#0d0887"
             ],
             [
              0.1111111111111111,
              "#46039f"
             ],
             [
              0.2222222222222222,
              "#7201a8"
             ],
             [
              0.3333333333333333,
              "#9c179e"
             ],
             [
              0.4444444444444444,
              "#bd3786"
             ],
             [
              0.5555555555555556,
              "#d8576b"
             ],
             [
              0.6666666666666666,
              "#ed7953"
             ],
             [
              0.7777777777777778,
              "#fb9f3a"
             ],
             [
              0.8888888888888888,
              "#fdca26"
             ],
             [
              1,
              "#f0f921"
             ]
            ],
            "type": "surface"
           }
          ],
          "table": [
           {
            "cells": {
             "fill": {
              "color": "#EBF0F8"
             },
             "line": {
              "color": "white"
             }
            },
            "header": {
             "fill": {
              "color": "#C8D4E3"
             },
             "line": {
              "color": "white"
             }
            },
            "type": "table"
           }
          ]
         },
         "layout": {
          "annotationdefaults": {
           "arrowcolor": "#2a3f5f",
           "arrowhead": 0,
           "arrowwidth": 1
          },
          "autotypenumbers": "strict",
          "coloraxis": {
           "colorbar": {
            "outlinewidth": 0,
            "ticks": ""
           }
          },
          "colorscale": {
           "diverging": [
            [
             0,
             "#8e0152"
            ],
            [
             0.1,
             "#c51b7d"
            ],
            [
             0.2,
             "#de77ae"
            ],
            [
             0.3,
             "#f1b6da"
            ],
            [
             0.4,
             "#fde0ef"
            ],
            [
             0.5,
             "#f7f7f7"
            ],
            [
             0.6,
             "#e6f5d0"
            ],
            [
             0.7,
             "#b8e186"
            ],
            [
             0.8,
             "#7fbc41"
            ],
            [
             0.9,
             "#4d9221"
            ],
            [
             1,
             "#276419"
            ]
           ],
           "sequential": [
            [
             0,
             "#0d0887"
            ],
            [
             0.1111111111111111,
             "#46039f"
            ],
            [
             0.2222222222222222,
             "#7201a8"
            ],
            [
             0.3333333333333333,
             "#9c179e"
            ],
            [
             0.4444444444444444,
             "#bd3786"
            ],
            [
             0.5555555555555556,
             "#d8576b"
            ],
            [
             0.6666666666666666,
             "#ed7953"
            ],
            [
             0.7777777777777778,
             "#fb9f3a"
            ],
            [
             0.8888888888888888,
             "#fdca26"
            ],
            [
             1,
             "#f0f921"
            ]
           ],
           "sequentialminus": [
            [
             0,
             "#0d0887"
            ],
            [
             0.1111111111111111,
             "#46039f"
            ],
            [
             0.2222222222222222,
             "#7201a8"
            ],
            [
             0.3333333333333333,
             "#9c179e"
            ],
            [
             0.4444444444444444,
             "#bd3786"
            ],
            [
             0.5555555555555556,
             "#d8576b"
            ],
            [
             0.6666666666666666,
             "#ed7953"
            ],
            [
             0.7777777777777778,
             "#fb9f3a"
            ],
            [
             0.8888888888888888,
             "#fdca26"
            ],
            [
             1,
             "#f0f921"
            ]
           ]
          },
          "colorway": [
           "#636efa",
           "#EF553B",
           "#00cc96",
           "#ab63fa",
           "#FFA15A",
           "#19d3f3",
           "#FF6692",
           "#B6E880",
           "#FF97FF",
           "#FECB52"
          ],
          "font": {
           "color": "#2a3f5f"
          },
          "geo": {
           "bgcolor": "white",
           "lakecolor": "white",
           "landcolor": "#E5ECF6",
           "showlakes": true,
           "showland": true,
           "subunitcolor": "white"
          },
          "hoverlabel": {
           "align": "left"
          },
          "hovermode": "closest",
          "mapbox": {
           "style": "light"
          },
          "paper_bgcolor": "white",
          "plot_bgcolor": "#E5ECF6",
          "polar": {
           "angularaxis": {
            "gridcolor": "white",
            "linecolor": "white",
            "ticks": ""
           },
           "bgcolor": "#E5ECF6",
           "radialaxis": {
            "gridcolor": "white",
            "linecolor": "white",
            "ticks": ""
           }
          },
          "scene": {
           "xaxis": {
            "backgroundcolor": "#E5ECF6",
            "gridcolor": "white",
            "gridwidth": 2,
            "linecolor": "white",
            "showbackground": true,
            "ticks": "",
            "zerolinecolor": "white"
           },
           "yaxis": {
            "backgroundcolor": "#E5ECF6",
            "gridcolor": "white",
            "gridwidth": 2,
            "linecolor": "white",
            "showbackground": true,
            "ticks": "",
            "zerolinecolor": "white"
           },
           "zaxis": {
            "backgroundcolor": "#E5ECF6",
            "gridcolor": "white",
            "gridwidth": 2,
            "linecolor": "white",
            "showbackground": true,
            "ticks": "",
            "zerolinecolor": "white"
           }
          },
          "shapedefaults": {
           "line": {
            "color": "#2a3f5f"
           }
          },
          "ternary": {
           "aaxis": {
            "gridcolor": "white",
            "linecolor": "white",
            "ticks": ""
           },
           "baxis": {
            "gridcolor": "white",
            "linecolor": "white",
            "ticks": ""
           },
           "bgcolor": "#E5ECF6",
           "caxis": {
            "gridcolor": "white",
            "linecolor": "white",
            "ticks": ""
           }
          },
          "title": {
           "x": 0.05
          },
          "xaxis": {
           "automargin": true,
           "gridcolor": "white",
           "linecolor": "white",
           "ticks": "",
           "title": {
            "standoff": 15
           },
           "zerolinecolor": "white",
           "zerolinewidth": 2
          },
          "yaxis": {
           "automargin": true,
           "gridcolor": "white",
           "linecolor": "white",
           "ticks": "",
           "title": {
            "standoff": 15
           },
           "zerolinecolor": "white",
           "zerolinewidth": 2
          }
         }
        },
        "xaxis": {
         "anchor": "y",
         "domain": [
          0,
          1
         ],
         "title": {
          "text": "Metric"
         }
        },
        "yaxis": {
         "anchor": "x",
         "domain": [
          0,
          1
         ],
         "title": {
          "text": "Value"
         }
        }
       }
      }
     },
     "metadata": {},
     "output_type": "display_data"
    }
   ],
   "source": [
    "def get_tasteProfileComparison(df, coffee_select, coffee_recommend):\n",
    "    id_select = df[df[\"Name\"] == coffee_select].index.astype('Int64')[0];\n",
    "    id_recommend = df[df[\"Name\"] == coffee_recommend].index.astype('Int64')[0];\n",
    "\n",
    "    tasteCols = [\"Acidity\",\"Bitterness\",\"Roastness\",\"Body\"];\n",
    "    tasteCols_barista = [\"Milky Taste\",\"Bitterness with Milk\",\"Roastiness with Milk\", \"Creamy Texture\"];\n",
    "\n",
    "    if df.loc[id_select, \"Category\"] == df.loc[id_recommend, \"Category\"]:\n",
    "        if df.loc[id_select, \"Category\"] == \"Barista Creations\":\n",
    "            cols = tasteCols_barista;\n",
    "        else:\n",
    "            cols = tasteCols;\n",
    "        \n",
    "        data = [];\n",
    "        for id in [id_select, id_recommend]:\n",
    "            for col in cols:\n",
    "                row = [\n",
    "                    df.loc[id, \"Name\"],\n",
    "                    col,\n",
    "                    df.loc[id, col]\n",
    "                ];\n",
    "                data.append(row);\n",
    "        dfTaste = pd.DataFrame(data, columns=[\"Coffee\",\"Metric\",\"Value\"]);\n",
    "        fig = px.bar(dfTaste, x=\"Metric\", y=\"Value\", color=\"Coffee\", barmode=\"group\");\n",
    "        return fig;\n",
    "\n",
    "get_tasteProfileComparison(dfVertuo_Prep, \"Intenso\", \"Melozio\")"
   ]
  },
  {
   "cell_type": "markdown",
   "metadata": {},
   "source": [
    "### Natural Language Processing"
   ]
  },
  {
   "cell_type": "markdown",
   "metadata": {},
   "source": [
    "#### ***Wordcloud***\n",
    "Example Coffee: Intenso"
   ]
  },
  {
   "cell_type": "code",
   "execution_count": 6,
   "metadata": {},
   "outputs": [
    {
     "data": {
      "image/png": "[encoded data removed]",
      "text/plain": [
       "<PIL.Image.Image image mode=RGB size=400x200>"
      ]
     },
     "execution_count": 6,
     "metadata": {},
     "output_type": "execute_result"
    }
   ],
   "source": [
    "def get_wordcloud_Vertuo(df_Prep, coffee_select):\n",
    "    wordcloud = WordCloud(background_color=\"white\", max_words=5000, contour_width=3, contour_color=\"steelblue\");\n",
    "    mask = df_Prep[\"Name\"] == coffee_select;\n",
    "    idx = df_Prep.index[mask].tolist()[0];\n",
    "    wc = wordcloud.generate(df_Prep.loc[idx, \"Textual Info\"]);\n",
    "    return wc.to_image();\n",
    "\n",
    "df_Prep = dfVertuo_Prep;\n",
    "coffee_select = \"Intenso\";\n",
    "\n",
    "get_wordcloud_Vertuo(df_Prep, coffee_select)"
   ]
  },
  {
   "cell_type": "markdown",
   "metadata": {},
   "source": [
    "#### ***Named Entity Recognition (NER)***\n",
    "Example Coffee: Odacio"
   ]
  },
  {
   "cell_type": "code",
   "execution_count": 7,
   "metadata": {},
   "outputs": [
    {
     "data": {
      "text/html": [
       "<div>\n",
       "<style scoped>\n",
       "    .dataframe tbody tr th:only-of-type {\n",
       "        vertical-align: middle;\n",
       "    }\n",
       "\n",
       "    .dataframe tbody tr th {\n",
       "        vertical-align: top;\n",
       "    }\n",
       "\n",
       "    .dataframe thead th {\n",
       "        text-align: right;\n",
       "    }\n",
       "</style>\n",
       "<table border=\"1\" class=\"dataframe\">\n",
       "  <thead>\n",
       "    <tr style=\"text-align: right;\">\n",
       "      <th></th>\n",
       "      <th>TEXT</th>\n",
       "      <th>LEMMA</th>\n",
       "      <th>POS</th>\n",
       "      <th>TAG</th>\n",
       "      <th>DEP</th>\n",
       "      <th>SHAPE</th>\n",
       "      <th>ALPHA</th>\n",
       "      <th>STOP</th>\n",
       "    </tr>\n",
       "  </thead>\n",
       "  <tbody>\n",
       "    <tr>\n",
       "      <th>0</th>\n",
       "      <td>coffee</td>\n",
       "      <td>coffee</td>\n",
       "      <td>NOUN</td>\n",
       "      <td>NN</td>\n",
       "      <td>nmod</td>\n",
       "      <td>xxxx</td>\n",
       "      <td>True</td>\n",
       "      <td>False</td>\n",
       "    </tr>\n",
       "    <tr>\n",
       "      <th>1</th>\n",
       "      <td>bold</td>\n",
       "      <td>bold</td>\n",
       "      <td>ADJ</td>\n",
       "      <td>JJ</td>\n",
       "      <td>amod</td>\n",
       "      <td>xxxx</td>\n",
       "      <td>True</td>\n",
       "      <td>False</td>\n",
       "    </tr>\n",
       "    <tr>\n",
       "      <th>2</th>\n",
       "      <td>lively</td>\n",
       "      <td>lively</td>\n",
       "      <td>ADJ</td>\n",
       "      <td>JJ</td>\n",
       "      <td>amod</td>\n",
       "      <td>xxxx</td>\n",
       "      <td>True</td>\n",
       "      <td>False</td>\n",
       "    </tr>\n",
       "    <tr>\n",
       "      <th>3</th>\n",
       "      <td>love</td>\n",
       "      <td>love</td>\n",
       "      <td>NOUN</td>\n",
       "      <td>NN</td>\n",
       "      <td>nmod</td>\n",
       "      <td>xxxx</td>\n",
       "      <td>True</td>\n",
       "      <td>False</td>\n",
       "    </tr>\n",
       "    <tr>\n",
       "      <th>4</th>\n",
       "      <td>odacio</td>\n",
       "      <td>odacio</td>\n",
       "      <td>X</td>\n",
       "      <td>FW</td>\n",
       "      <td>nmod</td>\n",
       "      <td>xxxx</td>\n",
       "      <td>True</td>\n",
       "      <td>False</td>\n",
       "    </tr>\n",
       "    <tr>\n",
       "      <th>...</th>\n",
       "      <td>...</td>\n",
       "      <td>...</td>\n",
       "      <td>...</td>\n",
       "      <td>...</td>\n",
       "      <td>...</td>\n",
       "      <td>...</td>\n",
       "      <td>...</td>\n",
       "      <td>...</td>\n",
       "    </tr>\n",
       "    <tr>\n",
       "      <th>62</th>\n",
       "      <td>coffee</td>\n",
       "      <td>coffee</td>\n",
       "      <td>NOUN</td>\n",
       "      <td>NN</td>\n",
       "      <td>nmod</td>\n",
       "      <td>xxxx</td>\n",
       "      <td>True</td>\n",
       "      <td>False</td>\n",
       "    </tr>\n",
       "    <tr>\n",
       "      <th>63</th>\n",
       "      <td>230ml</td>\n",
       "      <td>230ml</td>\n",
       "      <td>NOUN</td>\n",
       "      <td>NN</td>\n",
       "      <td>nmod</td>\n",
       "      <td>dddxx</td>\n",
       "      <td>False</td>\n",
       "      <td>False</td>\n",
       "    </tr>\n",
       "    <tr>\n",
       "      <th>64</th>\n",
       "      <td>intense</td>\n",
       "      <td>intense</td>\n",
       "      <td>ADJ</td>\n",
       "      <td>JJ</td>\n",
       "      <td>amod</td>\n",
       "      <td>xxxx</td>\n",
       "      <td>True</td>\n",
       "      <td>False</td>\n",
       "    </tr>\n",
       "    <tr>\n",
       "      <th>65</th>\n",
       "      <td>signature</td>\n",
       "      <td>signature</td>\n",
       "      <td>NOUN</td>\n",
       "      <td>NN</td>\n",
       "      <td>compound</td>\n",
       "      <td>xxxx</td>\n",
       "      <td>True</td>\n",
       "      <td>False</td>\n",
       "    </tr>\n",
       "    <tr>\n",
       "      <th>66</th>\n",
       "      <td>coffee</td>\n",
       "      <td>coffee</td>\n",
       "      <td>NOUN</td>\n",
       "      <td>NN</td>\n",
       "      <td>dobj</td>\n",
       "      <td>xxxx</td>\n",
       "      <td>True</td>\n",
       "      <td>False</td>\n",
       "    </tr>\n",
       "  </tbody>\n",
       "</table>\n",
       "<p>67 rows × 8 columns</p>\n",
       "</div>"
      ],
      "text/plain": [
       "         TEXT      LEMMA   POS TAG       DEP  SHAPE  ALPHA   STOP\n",
       "0      coffee     coffee  NOUN  NN      nmod   xxxx   True  False\n",
       "1        bold       bold   ADJ  JJ      amod   xxxx   True  False\n",
       "2      lively     lively   ADJ  JJ      amod   xxxx   True  False\n",
       "3        love       love  NOUN  NN      nmod   xxxx   True  False\n",
       "4      odacio     odacio     X  FW      nmod   xxxx   True  False\n",
       "..        ...        ...   ...  ..       ...    ...    ...    ...\n",
       "62     coffee     coffee  NOUN  NN      nmod   xxxx   True  False\n",
       "63      230ml      230ml  NOUN  NN      nmod  dddxx  False  False\n",
       "64    intense    intense   ADJ  JJ      amod   xxxx   True  False\n",
       "65  signature  signature  NOUN  NN  compound   xxxx   True  False\n",
       "66     coffee     coffee  NOUN  NN      dobj   xxxx   True  False\n",
       "\n",
       "[67 rows x 8 columns]"
      ]
     },
     "execution_count": 7,
     "metadata": {},
     "output_type": "execute_result"
    }
   ],
   "source": [
    "def get_NER_Vertuo(df_Prep, coffee_select):\n",
    "    mask = df_Prep[\"Name\"] == coffee_select;\n",
    "    idx = df_Prep.index[mask].tolist()[0];\n",
    "\n",
    "    # nlp = spacy.load(\"en_core_web_sm\");\n",
    "    doc = nlp(df_Prep.loc[idx, \"Textual Info\"]);\n",
    "\n",
    "    data = [];\n",
    "    for token in doc:\n",
    "        row = [token.text, token.lemma_, token.pos_, token.tag_, token.dep_, token.shape_, token.is_alpha, token.is_stop];\n",
    "        data.append(row);\n",
    "    df_NER = pd.DataFrame(data, columns=[\"TEXT\",\"LEMMA\",\"POS\",\"TAG\",\"DEP\",\"SHAPE\",\"ALPHA\",\"STOP\"]);\n",
    "    return df_NER;\n",
    "\n",
    "df_Prep = dfVertuo_Prep;\n",
    "coffee_select = \"Odacio\";\n",
    "\n",
    "# Column definitions:\n",
    "# Text: The original word text.\n",
    "# Lemma: The base form of the word.\n",
    "# POS: The simple UPOS part-of-speech tag.\n",
    "# Tag: The detailed part-of-speech tag.\n",
    "# Dep: Syntactic dependency, i.e. the relation between tokens.\n",
    "# Shape: The word shape – capitalization, punctuation, digits.\n",
    "# is alpha: Is the token an alpha character?\n",
    "# is stop: Is the token part of a stop list, i.e. the most common words of the language?\n",
    "\n",
    "get_NER_Vertuo(df_Prep, coffee_select)"
   ]
  },
  {
   "cell_type": "markdown",
   "metadata": {},
   "source": [
    "#### ***Term Frequency-Inverse Document Frequency (TF-IDF)***\n",
    "Example Coffee: Melozio"
   ]
  },
  {
   "cell_type": "markdown",
   "metadata": {},
   "source": [
    "##### Recommendations"
   ]
  },
  {
   "cell_type": "code",
   "execution_count": 8,
   "metadata": {},
   "outputs": [
    {
     "data": {
      "text/html": [
       "<div>\n",
       "<style scoped>\n",
       "    .dataframe tbody tr th:only-of-type {\n",
       "        vertical-align: middle;\n",
       "    }\n",
       "\n",
       "    .dataframe tbody tr th {\n",
       "        vertical-align: top;\n",
       "    }\n",
       "\n",
       "    .dataframe thead th {\n",
       "        text-align: right;\n",
       "    }\n",
       "</style>\n",
       "<table border=\"1\" class=\"dataframe\">\n",
       "  <thead>\n",
       "    <tr style=\"text-align: right;\">\n",
       "      <th></th>\n",
       "      <th>id</th>\n",
       "      <th>Name</th>\n",
       "      <th>Serving</th>\n",
       "      <th>Headline</th>\n",
       "      <th>Intensity</th>\n",
       "      <th>Category</th>\n",
       "      <th>Similarity Score</th>\n",
       "    </tr>\n",
       "  </thead>\n",
       "  <tbody>\n",
       "    <tr>\n",
       "      <th>0</th>\n",
       "      <td>5</td>\n",
       "      <td>Melozio Decaffeinato</td>\n",
       "      <td>Coffee</td>\n",
       "      <td>Smooth &amp; Balanced</td>\n",
       "      <td>6.0</td>\n",
       "      <td>Signature Coffee</td>\n",
       "      <td>0.9051</td>\n",
       "    </tr>\n",
       "    <tr>\n",
       "      <th>1</th>\n",
       "      <td>26</td>\n",
       "      <td>Carafe Pour-Over Style Mild</td>\n",
       "      <td>Carafe</td>\n",
       "      <td>Toasted Cereal &amp; Malted</td>\n",
       "      <td>NaN</td>\n",
       "      <td>Craft Brew</td>\n",
       "      <td>0.6551</td>\n",
       "    </tr>\n",
       "    <tr>\n",
       "      <th>2</th>\n",
       "      <td>6</td>\n",
       "      <td>Half Caffeinato</td>\n",
       "      <td>Coffee</td>\n",
       "      <td>Sweet &amp; Velvety</td>\n",
       "      <td>5.0</td>\n",
       "      <td>Signature Coffee</td>\n",
       "      <td>0.4887</td>\n",
       "    </tr>\n",
       "    <tr>\n",
       "      <th>3</th>\n",
       "      <td>24</td>\n",
       "      <td>Double Espresso Dolce</td>\n",
       "      <td>Double Espresso</td>\n",
       "      <td>Cereal &amp; Mild</td>\n",
       "      <td>5.0</td>\n",
       "      <td>Double Espresso</td>\n",
       "      <td>0.4709</td>\n",
       "    </tr>\n",
       "    <tr>\n",
       "      <th>4</th>\n",
       "      <td>2</td>\n",
       "      <td>Stormio</td>\n",
       "      <td>Coffee</td>\n",
       "      <td>Rich &amp; Strong</td>\n",
       "      <td>8.0</td>\n",
       "      <td>Signature Coffee</td>\n",
       "      <td>0.4439</td>\n",
       "    </tr>\n",
       "    <tr>\n",
       "      <th>5</th>\n",
       "      <td>17</td>\n",
       "      <td>Diavolitto</td>\n",
       "      <td>Espresso</td>\n",
       "      <td>Highly Intense &amp; Powerful</td>\n",
       "      <td>11.0</td>\n",
       "      <td>Espresso</td>\n",
       "      <td>0.4188</td>\n",
       "    </tr>\n",
       "    <tr>\n",
       "      <th>6</th>\n",
       "      <td>1</td>\n",
       "      <td>Intenso</td>\n",
       "      <td>Coffee</td>\n",
       "      <td>Smooth &amp; Strong</td>\n",
       "      <td>9.0</td>\n",
       "      <td>Signature Coffee</td>\n",
       "      <td>0.3991</td>\n",
       "    </tr>\n",
       "    <tr>\n",
       "      <th>7</th>\n",
       "      <td>29</td>\n",
       "      <td>Bianco Forte</td>\n",
       "      <td>Coffee</td>\n",
       "      <td>Full &amp; Balanced; For Intense Recipes With Milk</td>\n",
       "      <td>NaN</td>\n",
       "      <td>Barista Creations</td>\n",
       "      <td>0.3987</td>\n",
       "    </tr>\n",
       "    <tr>\n",
       "      <th>8</th>\n",
       "      <td>33</td>\n",
       "      <td>Chocolate Fudge</td>\n",
       "      <td>Coffee</td>\n",
       "      <td>Sweet &amp; Velvety; Dark Chocolate Flavoured</td>\n",
       "      <td>NaN</td>\n",
       "      <td>Barista Creations</td>\n",
       "      <td>0.3924</td>\n",
       "    </tr>\n",
       "    <tr>\n",
       "      <th>9</th>\n",
       "      <td>30</td>\n",
       "      <td>Vanilla Custard Pie</td>\n",
       "      <td>Coffee</td>\n",
       "      <td>Sweet &amp; Velvety; Vanilla Flavoured</td>\n",
       "      <td>NaN</td>\n",
       "      <td>Barista Creations</td>\n",
       "      <td>0.3902</td>\n",
       "    </tr>\n",
       "  </tbody>\n",
       "</table>\n",
       "</div>"
      ],
      "text/plain": [
       "   id                         Name          Serving  \\\n",
       "0   5         Melozio Decaffeinato           Coffee   \n",
       "1  26  Carafe Pour-Over Style Mild           Carafe   \n",
       "2   6              Half Caffeinato           Coffee   \n",
       "3  24        Double Espresso Dolce  Double Espresso   \n",
       "4   2                      Stormio           Coffee   \n",
       "5  17                   Diavolitto         Espresso   \n",
       "6   1                      Intenso           Coffee   \n",
       "7  29                 Bianco Forte           Coffee   \n",
       "8  33              Chocolate Fudge           Coffee   \n",
       "9  30          Vanilla Custard Pie           Coffee   \n",
       "\n",
       "                                         Headline  Intensity  \\\n",
       "0                               Smooth & Balanced        6.0   \n",
       "1                         Toasted Cereal & Malted        NaN   \n",
       "2                                 Sweet & Velvety        5.0   \n",
       "3                                   Cereal & Mild        5.0   \n",
       "4                                   Rich & Strong        8.0   \n",
       "5                       Highly Intense & Powerful       11.0   \n",
       "6                                 Smooth & Strong        9.0   \n",
       "7  Full & Balanced; For Intense Recipes With Milk        NaN   \n",
       "8       Sweet & Velvety; Dark Chocolate Flavoured        NaN   \n",
       "9              Sweet & Velvety; Vanilla Flavoured        NaN   \n",
       "\n",
       "            Category  Similarity Score  \n",
       "0   Signature Coffee            0.9051  \n",
       "1         Craft Brew            0.6551  \n",
       "2   Signature Coffee            0.4887  \n",
       "3    Double Espresso            0.4709  \n",
       "4   Signature Coffee            0.4439  \n",
       "5           Espresso            0.4188  \n",
       "6   Signature Coffee            0.3991  \n",
       "7  Barista Creations            0.3987  \n",
       "8  Barista Creations            0.3924  \n",
       "9  Barista Creations            0.3902  "
      ]
     },
     "execution_count": 8,
     "metadata": {},
     "output_type": "execute_result"
    }
   ],
   "source": [
    "def get_dataframeNLP_Vertuo(df_Prep, coffee_select):\n",
    "    df_coffeeSelect = df_Prep[df_Prep[\"Name\"] == coffee_select];\n",
    "    df_NLP = pd.concat([df_coffeeSelect, df_Prep]);\n",
    "    df_NLP = df_NLP.drop_duplicates();\n",
    "    df_NLP = df_NLP[df_NLP.columns.tolist()[1:]];\n",
    "    df_NLP = df_NLP.reset_index();\n",
    "    return df_NLP;\n",
    "\n",
    "def get_recommendations_Vertuo(df_NLP, coffee_select, numRec, indices, cosine_sim):\n",
    "    idx = indices[coffee_select];\n",
    "    sim_scores = list(enumerate(cosine_sim[idx]));\n",
    "    sim_scores = sorted(sim_scores, key=lambda x: x[1], reverse=True);\n",
    "    sim_scores = sim_scores[1:numRec+1];\n",
    "    coffee_indices = [i[0] for i in sim_scores];\n",
    "    df_Rec = df_NLP[[\"Name\",\"Serving\",\"Headline\",\"Intensity\",\"Category\"]].iloc[coffee_indices];\n",
    "    \n",
    "    similarityScores = [];\n",
    "    for i in range(len(sim_scores)):\n",
    "        similarityScores.append(round(sim_scores[i][1], 4));\n",
    "    df_Rec[\"Similarity Score\"] =  similarityScores;\n",
    "    \n",
    "    df_Rec = df_Rec.reset_index().rename(columns={\"index\":\"id\"});\n",
    "    \n",
    "    return df_Rec;\n",
    "\n",
    "def get_recommendationResultsTFIDF_Vertuo(df_Prep, coffee_select, numRec, min_df, max_df, max_features, stop_words, sublinear_tf, n_lower, n_upper):\n",
    "    df_NLP = get_dataframeNLP_Vertuo(df_Prep, coffee_select);\n",
    "        \n",
    "    vectorizer = TfidfVectorizer(min_df=min_df, max_df=max_df, max_features=max_features, stop_words=stop_words, sublinear_tf=sublinear_tf, ngram_range=(n_lower, n_upper));\n",
    "    matrix = vectorizer.fit_transform(df_NLP[\"Textual Info\"]);\n",
    "    cosine_sim = linear_kernel(matrix, matrix);\n",
    "    indices = pd.Series(df_NLP.index, index=df_NLP[\"Name\"]).drop_duplicates();\n",
    "    \n",
    "    df_Rec = get_recommendations_Vertuo(df_NLP, coffee_select, numRec, indices, cosine_sim);\n",
    "    \n",
    "    return df_Rec;\n",
    "\n",
    "# General Parameters:\n",
    "df_Prep = dfVertuo_Prep;\n",
    "coffee_select = \"Melozio\";\n",
    "numRec = 10;\n",
    "min_df = 2;\n",
    "max_df = 0.95;\n",
    "max_features = 50;\n",
    "stop_words = \"english\";\n",
    "n_lower = 1;\n",
    "n_upper = 1;\n",
    "# Unique Parameters:\n",
    "sublinear_tf = True;\n",
    "\n",
    "get_recommendationResultsTFIDF_Vertuo(df_Prep, coffee_select, numRec, min_df, max_df, max_features, stop_words, sublinear_tf, n_lower, n_upper)"
   ]
  },
  {
   "cell_type": "markdown",
   "metadata": {},
   "source": [
    "##### Feature Results"
   ]
  },
  {
   "cell_type": "code",
   "execution_count": 9,
   "metadata": {},
   "outputs": [
    {
     "data": {
      "text/html": [
       "<div>\n",
       "<style scoped>\n",
       "    .dataframe tbody tr th:only-of-type {\n",
       "        vertical-align: middle;\n",
       "    }\n",
       "\n",
       "    .dataframe tbody tr th {\n",
       "        vertical-align: top;\n",
       "    }\n",
       "\n",
       "    .dataframe thead th {\n",
       "        text-align: right;\n",
       "    }\n",
       "</style>\n",
       "<table border=\"1\" class=\"dataframe\">\n",
       "  <thead>\n",
       "    <tr style=\"text-align: right;\">\n",
       "      <th></th>\n",
       "      <th>TF-IDF</th>\n",
       "    </tr>\n",
       "  </thead>\n",
       "  <tbody>\n",
       "    <tr>\n",
       "      <th>notes</th>\n",
       "      <td>0.120499</td>\n",
       "    </tr>\n",
       "    <tr>\n",
       "      <th>blend</th>\n",
       "      <td>0.120499</td>\n",
       "    </tr>\n",
       "    <tr>\n",
       "      <th>love</th>\n",
       "      <td>0.131948</td>\n",
       "    </tr>\n",
       "    <tr>\n",
       "      <th>split</th>\n",
       "      <td>0.131948</td>\n",
       "    </tr>\n",
       "    <tr>\n",
       "      <th>sweet</th>\n",
       "      <td>0.155262</td>\n",
       "    </tr>\n",
       "    <tr>\n",
       "      <th>230ml</th>\n",
       "      <td>0.160796</td>\n",
       "    </tr>\n",
       "    <tr>\n",
       "      <th>latin</th>\n",
       "      <td>0.173065</td>\n",
       "    </tr>\n",
       "    <tr>\n",
       "      <th>signature</th>\n",
       "      <td>0.204592</td>\n",
       "    </tr>\n",
       "    <tr>\n",
       "      <th>balanced</th>\n",
       "      <td>0.204592</td>\n",
       "    </tr>\n",
       "    <tr>\n",
       "      <th>note</th>\n",
       "      <td>0.210201</td>\n",
       "    </tr>\n",
       "    <tr>\n",
       "      <th>arabicas</th>\n",
       "      <td>0.223407</td>\n",
       "    </tr>\n",
       "    <tr>\n",
       "      <th>american</th>\n",
       "      <td>0.262882</td>\n",
       "    </tr>\n",
       "    <tr>\n",
       "      <th>vertuo</th>\n",
       "      <td>0.262882</td>\n",
       "    </tr>\n",
       "    <tr>\n",
       "      <th>roasted</th>\n",
       "      <td>0.272251</td>\n",
       "    </tr>\n",
       "    <tr>\n",
       "      <th>smooth</th>\n",
       "      <td>0.314928</td>\n",
       "    </tr>\n",
       "    <tr>\n",
       "      <th>sweetness</th>\n",
       "      <td>0.331110</td>\n",
       "    </tr>\n",
       "    <tr>\n",
       "      <th>brazilian</th>\n",
       "      <td>0.346404</td>\n",
       "    </tr>\n",
       "    <tr>\n",
       "      <th>cereal</th>\n",
       "      <td>0.370502</td>\n",
       "    </tr>\n",
       "  </tbody>\n",
       "</table>\n",
       "</div>"
      ],
      "text/plain": [
       "             TF-IDF\n",
       "notes      0.120499\n",
       "blend      0.120499\n",
       "love       0.131948\n",
       "split      0.131948\n",
       "sweet      0.155262\n",
       "230ml      0.160796\n",
       "latin      0.173065\n",
       "signature  0.204592\n",
       "balanced   0.204592\n",
       "note       0.210201\n",
       "arabicas   0.223407\n",
       "american   0.262882\n",
       "vertuo     0.262882\n",
       "roasted    0.272251\n",
       "smooth     0.314928\n",
       "sweetness  0.331110\n",
       "brazilian  0.346404\n",
       "cereal     0.370502"
      ]
     },
     "execution_count": 9,
     "metadata": {},
     "output_type": "execute_result"
    }
   ],
   "source": [
    "def get_FeatureResultsTFIDF_Vertuo(df_Prep, coffee_select, numRec, min_df, max_df, max_features, stop_words, sublinear_tf, n_lower, n_upper):\n",
    "    df_NLP = get_dataframeNLP_Vertuo(df_Prep, coffee_select);\n",
    "        \n",
    "    vectorizer = TfidfVectorizer(min_df=min_df, max_df=max_df, max_features=max_features, stop_words=stop_words, sublinear_tf=sublinear_tf, ngram_range=(n_lower, n_upper));\n",
    "    matrix = vectorizer.fit_transform(df_NLP[\"Textual Info\"]);\n",
    "    df_Feature = pd.DataFrame(matrix[0].T.todense(), \n",
    "        index=vectorizer.get_feature_names_out(), \n",
    "        columns=[\"TF-IDF\"]\n",
    "    );\n",
    "    df_Feature = df_Feature.sort_values('TF-IDF', ascending=True);\n",
    "    df_Feature = df_Feature[df_Feature[\"TF-IDF\"] > 0];\n",
    "    return df_Feature;\n",
    "\n",
    "# General Parameters:\n",
    "df_Prep = dfVertuo_Prep;\n",
    "coffee_select = \"Melozio\";\n",
    "numRec = 10;\n",
    "min_df = 2;\n",
    "max_df = 0.95;\n",
    "max_features = 50;\n",
    "stop_words = \"english\";\n",
    "n_lower = 1;\n",
    "n_upper = 1;\n",
    "# Unique Parameters:\n",
    "sublinear_tf = True;\n",
    "\n",
    "get_FeatureResultsTFIDF_Vertuo(df_Prep, coffee_select, numRec, min_df, max_df, max_features, stop_words, sublinear_tf, n_lower, n_upper)"
   ]
  },
  {
   "cell_type": "code",
   "execution_count": 10,
   "metadata": {},
   "outputs": [
    {
     "data": {
      "application/vnd.plotly.v1+json": {
       "config": {
        "plotlyServerURL": "https://plot.ly"
       },
       "data": [
        {
         "alignmentgroup": "True",
         "hovertemplate": "Score=%{x}<br>Features=%{y}<extra></extra>",
         "legendgroup": "",
         "marker": {
          "color": "#636efa",
          "pattern": {
           "shape": ""
          }
         },
         "name": "",
         "offsetgroup": "",
         "orientation": "h",
         "showlegend": false,
         "textposition": "auto",
         "type": "bar",
         "x": [
          0.12049934961448953,
          0.12049934961448953,
          0.13194783444100414,
          0.13194783444100414,
          0.15526241953101597,
          0.16079571223055966,
          0.17306464618595094,
          0.20459200078664713,
          0.20459200078664713,
          0.21020126389522864,
          0.2234071038647766,
          0.2628821278758551,
          0.2628821278758551,
          0.2722508068093004,
          0.31492760252576835,
          0.33110980062607537,
          0.3464043692970297,
          0.3705018362206942
         ],
         "xaxis": "x",
         "y": [
          "notes",
          "blend",
          "love",
          "split",
          "sweet",
          "230ml",
          "latin",
          "signature",
          "balanced",
          "note",
          "arabicas",
          "american",
          "vertuo",
          "roasted",
          "smooth",
          "sweetness",
          "brazilian",
          "cereal"
         ],
         "yaxis": "y"
        }
       ],
       "layout": {
        "barmode": "relative",
        "legend": {
         "tracegroupgap": 0
        },
        "template": {
         "data": {
          "bar": [
           {
            "error_x": {
             "color": "#2a3f5f"
            },
            "error_y": {
             "color": "#2a3f5f"
            },
            "marker": {
             "line": {
              "color": "#E5ECF6",
              "width": 0.5
             },
             "pattern": {
              "fillmode": "overlay",
              "size": 10,
              "solidity": 0.2
             }
            },
            "type": "bar"
           }
          ],
          "barpolar": [
           {
            "marker": {
             "line": {
              "color": "#E5ECF6",
              "width": 0.5
             },
             "pattern": {
              "fillmode": "overlay",
              "size": 10,
              "solidity": 0.2
             }
            },
            "type": "barpolar"
           }
          ],
          "carpet": [
           {
            "aaxis": {
             "endlinecolor": "#2a3f5f",
             "gridcolor": "white",
             "linecolor": "white",
             "minorgridcolor": "white",
             "startlinecolor": "#2a3f5f"
            },
            "baxis": {
             "endlinecolor": "#2a3f5f",
             "gridcolor": "white",
             "linecolor": "white",
             "minorgridcolor": "white",
             "startlinecolor": "#2a3f5f"
            },
            "type": "carpet"
           }
          ],
          "choropleth": [
           {
            "colorbar": {
             "outlinewidth": 0,
             "ticks": ""
            },
            "type": "choropleth"
           }
          ],
          "contour": [
           {
            "colorbar": {
             "outlinewidth": 0,
             "ticks": ""
            },
            "colorscale": [
             [
              0,
              "#0d0887"
             ],
             [
              0.1111111111111111,
              "#46039f"
             ],
             [
              0.2222222222222222,
              "#7201a8"
             ],
             [
              0.3333333333333333,
              "#9c179e"
             ],
             [
              0.4444444444444444,
              "#bd3786"
             ],
             [
              0.5555555555555556,
              "#d8576b"
             ],
             [
              0.6666666666666666,
              "#ed7953"
             ],
             [
              0.7777777777777778,
              "#fb9f3a"
             ],
             [
              0.8888888888888888,
              "#fdca26"
             ],
             [
              1,
              "#f0f921"
             ]
            ],
            "type": "contour"
           }
          ],
          "contourcarpet": [
           {
            "colorbar": {
             "outlinewidth": 0,
             "ticks": ""
            },
            "type": "contourcarpet"
           }
          ],
          "heatmap": [
           {
            "colorbar": {
             "outlinewidth": 0,
             "ticks": ""
            },
            "colorscale": [
             [
              0,
              "#0d0887"
             ],
             [
              0.1111111111111111,
              "#46039f"
             ],
             [
              0.2222222222222222,
              "#7201a8"
             ],
             [
              0.3333333333333333,
              "#9c179e"
             ],
             [
              0.4444444444444444,
              "#bd3786"
             ],
             [
              0.5555555555555556,
              "#d8576b"
             ],
             [
              0.6666666666666666,
              "#ed7953"
             ],
             [
              0.7777777777777778,
              "#fb9f3a"
             ],
             [
              0.8888888888888888,
              "#fdca26"
             ],
             [
              1,
              "#f0f921"
             ]
            ],
            "type": "heatmap"
           }
          ],
          "heatmapgl": [
           {
            "colorbar": {
             "outlinewidth": 0,
             "ticks": ""
            },
            "colorscale": [
             [
              0,
              "#0d0887"
             ],
             [
              0.1111111111111111,
              "#46039f"
             ],
             [
              0.2222222222222222,
              "#7201a8"
             ],
             [
              0.3333333333333333,
              "#9c179e"
             ],
             [
              0.4444444444444444,
              "#bd3786"
             ],
             [
              0.5555555555555556,
              "#d8576b"
             ],
             [
              0.6666666666666666,
              "#ed7953"
             ],
             [
              0.7777777777777778,
              "#fb9f3a"
             ],
             [
              0.8888888888888888,
              "#fdca26"
             ],
             [
              1,
              "#f0f921"
             ]
            ],
            "type": "heatmapgl"
           }
          ],
          "histogram": [
           {
            "marker": {
             "pattern": {
              "fillmode": "overlay",
              "size": 10,
              "solidity": 0.2
             }
            },
            "type": "histogram"
           }
          ],
          "histogram2d": [
           {
            "colorbar": {
             "outlinewidth": 0,
             "ticks": ""
            },
            "colorscale": [
             [
              0,
              "#0d0887"
             ],
             [
              0.1111111111111111,
              "#46039f"
             ],
             [
              0.2222222222222222,
              "#7201a8"
             ],
             [
              0.3333333333333333,
              "#9c179e"
             ],
             [
              0.4444444444444444,
              "#bd3786"
             ],
             [
              0.5555555555555556,
              "#d8576b"
             ],
             [
              0.6666666666666666,
              "#ed7953"
             ],
             [
              0.7777777777777778,
              "#fb9f3a"
             ],
             [
              0.8888888888888888,
              "#fdca26"
             ],
             [
              1,
              "#f0f921"
             ]
            ],
            "type": "histogram2d"
           }
          ],
          "histogram2dcontour": [
           {
            "colorbar": {
             "outlinewidth": 0,
             "ticks": ""
            },
            "colorscale": [
             [
              0,
              "#0d0887"
             ],
             [
              0.1111111111111111,
              "#46039f"
             ],
             [
              0.2222222222222222,
              "#7201a8"
             ],
             [
              0.3333333333333333,
              "#9c179e"
             ],
             [
              0.4444444444444444,
              "#bd3786"
             ],
             [
              0.5555555555555556,
              "#d8576b"
             ],
             [
              0.6666666666666666,
              "#ed7953"
             ],
             [
              0.7777777777777778,
              "#fb9f3a"
             ],
             [
              0.8888888888888888,
              "#fdca26"
             ],
             [
              1,
              "#f0f921"
             ]
            ],
            "type": "histogram2dcontour"
           }
          ],
          "mesh3d": [
           {
            "colorbar": {
             "outlinewidth": 0,
             "ticks": ""
            },
            "type": "mesh3d"
           }
          ],
          "parcoords": [
           {
            "line": {
             "colorbar": {
              "outlinewidth": 0,
              "ticks": ""
             }
            },
            "type": "parcoords"
           }
          ],
          "pie": [
           {
            "automargin": true,
            "type": "pie"
           }
          ],
          "scatter": [
           {
            "fillpattern": {
             "fillmode": "overlay",
             "size": 10,
             "solidity": 0.2
            },
            "type": "scatter"
           }
          ],
          "scatter3d": [
           {
            "line": {
             "colorbar": {
              "outlinewidth": 0,
              "ticks": ""
             }
            },
            "marker": {
             "colorbar": {
              "outlinewidth": 0,
              "ticks": ""
             }
            },
            "type": "scatter3d"
           }
          ],
          "scattercarpet": [
           {
            "marker": {
             "colorbar": {
              "outlinewidth": 0,
              "ticks": ""
             }
            },
            "type": "scattercarpet"
           }
          ],
          "scattergeo": [
           {
            "marker": {
             "colorbar": {
              "outlinewidth": 0,
              "ticks": ""
             }
            },
            "type": "scattergeo"
           }
          ],
          "scattergl": [
           {
            "marker": {
             "colorbar": {
              "outlinewidth": 0,
              "ticks": ""
             }
            },
            "type": "scattergl"
           }
          ],
          "scattermapbox": [
           {
            "marker": {
             "colorbar": {
              "outlinewidth": 0,
              "ticks": ""
             }
            },
            "type": "scattermapbox"
           }
          ],
          "scatterpolar": [
           {
            "marker": {
             "colorbar": {
              "outlinewidth": 0,
              "ticks": ""
             }
            },
            "type": "scatterpolar"
           }
          ],
          "scatterpolargl": [
           {
            "marker": {
             "colorbar": {
              "outlinewidth": 0,
              "ticks": ""
             }
            },
            "type": "scatterpolargl"
           }
          ],
          "scatterternary": [
           {
            "marker": {
             "colorbar": {
              "outlinewidth": 0,
              "ticks": ""
             }
            },
            "type": "scatterternary"
           }
          ],
          "surface": [
           {
            "colorbar": {
             "outlinewidth": 0,
             "ticks": ""
            },
            "colorscale": [
             [
              0,
              "#0d0887"
             ],
             [
              0.1111111111111111,
              "#46039f"
             ],
             [
              0.2222222222222222,
              "#7201a8"
             ],
             [
              0.3333333333333333,
              "#9c179e"
             ],
             [
              0.4444444444444444,
              "#bd3786"
             ],
             [
              0.5555555555555556,
              "#d8576b"
             ],
             [
              0.6666666666666666,
              "#ed7953"
             ],
             [
              0.7777777777777778,
              "#fb9f3a"
             ],
             [
              0.8888888888888888,
              "#fdca26"
             ],
             [
              1,
              "#f0f921"
             ]
            ],
            "type": "surface"
           }
          ],
          "table": [
           {
            "cells": {
             "fill": {
              "color": "#EBF0F8"
             },
             "line": {
              "color": "white"
             }
            },
            "header": {
             "fill": {
              "color": "#C8D4E3"
             },
             "line": {
              "color": "white"
             }
            },
            "type": "table"
           }
          ]
         },
         "layout": {
          "annotationdefaults": {
           "arrowcolor": "#2a3f5f",
           "arrowhead": 0,
           "arrowwidth": 1
          },
          "autotypenumbers": "strict",
          "coloraxis": {
           "colorbar": {
            "outlinewidth": 0,
            "ticks": ""
           }
          },
          "colorscale": {
           "diverging": [
            [
             0,
             "#8e0152"
            ],
            [
             0.1,
             "#c51b7d"
            ],
            [
             0.2,
             "#de77ae"
            ],
            [
             0.3,
             "#f1b6da"
            ],
            [
             0.4,
             "#fde0ef"
            ],
            [
             0.5,
             "#f7f7f7"
            ],
            [
             0.6,
             "#e6f5d0"
            ],
            [
             0.7,
             "#b8e186"
            ],
            [
             0.8,
             "#7fbc41"
            ],
            [
             0.9,
             "#4d9221"
            ],
            [
             1,
             "#276419"
            ]
           ],
           "sequential": [
            [
             0,
             "#0d0887"
            ],
            [
             0.1111111111111111,
             "#46039f"
            ],
            [
             0.2222222222222222,
             "#7201a8"
            ],
            [
             0.3333333333333333,
             "#9c179e"
            ],
            [
             0.4444444444444444,
             "#bd3786"
            ],
            [
             0.5555555555555556,
             "#d8576b"
            ],
            [
             0.6666666666666666,
             "#ed7953"
            ],
            [
             0.7777777777777778,
             "#fb9f3a"
            ],
            [
             0.8888888888888888,
             "#fdca26"
            ],
            [
             1,
             "#f0f921"
            ]
           ],
           "sequentialminus": [
            [
             0,
             "#0d0887"
            ],
            [
             0.1111111111111111,
             "#46039f"
            ],
            [
             0.2222222222222222,
             "#7201a8"
            ],
            [
             0.3333333333333333,
             "#9c179e"
            ],
            [
             0.4444444444444444,
             "#bd3786"
            ],
            [
             0.5555555555555556,
             "#d8576b"
            ],
            [
             0.6666666666666666,
             "#ed7953"
            ],
            [
             0.7777777777777778,
             "#fb9f3a"
            ],
            [
             0.8888888888888888,
             "#fdca26"
            ],
            [
             1,
             "#f0f921"
            ]
           ]
          },
          "colorway": [
           "#636efa",
           "#EF553B",
           "#00cc96",
           "#ab63fa",
           "#FFA15A",
           "#19d3f3",
           "#FF6692",
           "#B6E880",
           "#FF97FF",
           "#FECB52"
          ],
          "font": {
           "color": "#2a3f5f"
          },
          "geo": {
           "bgcolor": "white",
           "lakecolor": "white",
           "landcolor": "#E5ECF6",
           "showlakes": true,
           "showland": true,
           "subunitcolor": "white"
          },
          "hoverlabel": {
           "align": "left"
          },
          "hovermode": "closest",
          "mapbox": {
           "style": "light"
          },
          "paper_bgcolor": "white",
          "plot_bgcolor": "#E5ECF6",
          "polar": {
           "angularaxis": {
            "gridcolor": "white",
            "linecolor": "white",
            "ticks": ""
           },
           "bgcolor": "#E5ECF6",
           "radialaxis": {
            "gridcolor": "white",
            "linecolor": "white",
            "ticks": ""
           }
          },
          "scene": {
           "xaxis": {
            "backgroundcolor": "#E5ECF6",
            "gridcolor": "white",
            "gridwidth": 2,
            "linecolor": "white",
            "showbackground": true,
            "ticks": "",
            "zerolinecolor": "white"
           },
           "yaxis": {
            "backgroundcolor": "#E5ECF6",
            "gridcolor": "white",
            "gridwidth": 2,
            "linecolor": "white",
            "showbackground": true,
            "ticks": "",
            "zerolinecolor": "white"
           },
           "zaxis": {
            "backgroundcolor": "#E5ECF6",
            "gridcolor": "white",
            "gridwidth": 2,
            "linecolor": "white",
            "showbackground": true,
            "ticks": "",
            "zerolinecolor": "white"
           }
          },
          "shapedefaults": {
           "line": {
            "color": "#2a3f5f"
           }
          },
          "ternary": {
           "aaxis": {
            "gridcolor": "white",
            "linecolor": "white",
            "ticks": ""
           },
           "baxis": {
            "gridcolor": "white",
            "linecolor": "white",
            "ticks": ""
           },
           "bgcolor": "#E5ECF6",
           "caxis": {
            "gridcolor": "white",
            "linecolor": "white",
            "ticks": ""
           }
          },
          "title": {
           "x": 0.05
          },
          "xaxis": {
           "automargin": true,
           "gridcolor": "white",
           "linecolor": "white",
           "ticks": "",
           "title": {
            "standoff": 15
           },
           "zerolinecolor": "white",
           "zerolinewidth": 2
          },
          "yaxis": {
           "automargin": true,
           "gridcolor": "white",
           "linecolor": "white",
           "ticks": "",
           "title": {
            "standoff": 15
           },
           "zerolinecolor": "white",
           "zerolinewidth": 2
          }
         }
        },
        "title": {
         "text": "Important Features (TF-IDF)"
        },
        "xaxis": {
         "anchor": "y",
         "domain": [
          0,
          1
         ],
         "title": {
          "text": "Score"
         }
        },
        "yaxis": {
         "anchor": "x",
         "domain": [
          0,
          1
         ],
         "title": {
          "text": "Features"
         }
        }
       }
      }
     },
     "metadata": {},
     "output_type": "display_data"
    }
   ],
   "source": [
    "df_featureTFIDF = get_FeatureResultsTFIDF_Vertuo(df_Prep, \"Melozio\", numRec, min_df, max_df, max_features, stop_words, sublinear_tf, n_lower, n_upper)\n",
    "fig = px.bar(\n",
    "    df_featureTFIDF,\n",
    "    x=\"TF-IDF\",\n",
    "    y=df_featureTFIDF.index,\n",
    "    orientation=\"h\",\n",
    "    labels={'index':'Features', 'TF-IDF':'Score'},\n",
    "    title='Important Features (TF-IDF)'\n",
    ")\n",
    "fig.show()"
   ]
  },
  {
   "cell_type": "markdown",
   "metadata": {},
   "source": [
    "#### ***Bag of Words***\n",
    "Example Coffee: Stormio"
   ]
  },
  {
   "cell_type": "code",
   "execution_count": 11,
   "metadata": {},
   "outputs": [
    {
     "data": {
      "text/html": [
       "<div>\n",
       "<style scoped>\n",
       "    .dataframe tbody tr th:only-of-type {\n",
       "        vertical-align: middle;\n",
       "    }\n",
       "\n",
       "    .dataframe tbody tr th {\n",
       "        vertical-align: top;\n",
       "    }\n",
       "\n",
       "    .dataframe thead th {\n",
       "        text-align: right;\n",
       "    }\n",
       "</style>\n",
       "<table border=\"1\" class=\"dataframe\">\n",
       "  <thead>\n",
       "    <tr style=\"text-align: right;\">\n",
       "      <th></th>\n",
       "      <th>id</th>\n",
       "      <th>Name</th>\n",
       "      <th>Serving</th>\n",
       "      <th>Headline</th>\n",
       "      <th>Intensity</th>\n",
       "      <th>Category</th>\n",
       "      <th>Similarity Score</th>\n",
       "    </tr>\n",
       "  </thead>\n",
       "  <tbody>\n",
       "    <tr>\n",
       "      <th>0</th>\n",
       "      <td>26</td>\n",
       "      <td>Carafe Pour-Over Style Mild</td>\n",
       "      <td>Carafe</td>\n",
       "      <td>Toasted Cereal &amp; Malted</td>\n",
       "      <td>NaN</td>\n",
       "      <td>Craft Brew</td>\n",
       "      <td>0.6286</td>\n",
       "    </tr>\n",
       "    <tr>\n",
       "      <th>1</th>\n",
       "      <td>1</td>\n",
       "      <td>Intenso</td>\n",
       "      <td>Coffee</td>\n",
       "      <td>Smooth &amp; Strong</td>\n",
       "      <td>9.0</td>\n",
       "      <td>Signature Coffee</td>\n",
       "      <td>0.6110</td>\n",
       "    </tr>\n",
       "    <tr>\n",
       "      <th>2</th>\n",
       "      <td>10</td>\n",
       "      <td>Odacio</td>\n",
       "      <td>Coffee</td>\n",
       "      <td>Bold &amp; Lively</td>\n",
       "      <td>7.0</td>\n",
       "      <td>Signature Coffee</td>\n",
       "      <td>0.5890</td>\n",
       "    </tr>\n",
       "    <tr>\n",
       "      <th>3</th>\n",
       "      <td>29</td>\n",
       "      <td>Bianco Forte</td>\n",
       "      <td>Coffee</td>\n",
       "      <td>Full &amp; Balanced; For Intense Recipes With Milk</td>\n",
       "      <td>NaN</td>\n",
       "      <td>Barista Creations</td>\n",
       "      <td>0.5451</td>\n",
       "    </tr>\n",
       "    <tr>\n",
       "      <th>4</th>\n",
       "      <td>9</td>\n",
       "      <td>Solelio</td>\n",
       "      <td>Coffee</td>\n",
       "      <td>Fruity &amp; Lightly-Bodied</td>\n",
       "      <td>2.0</td>\n",
       "      <td>Signature Coffee</td>\n",
       "      <td>0.5388</td>\n",
       "    </tr>\n",
       "    <tr>\n",
       "      <th>5</th>\n",
       "      <td>22</td>\n",
       "      <td>Orafio</td>\n",
       "      <td>Espresso</td>\n",
       "      <td>Caramel &amp; Roasted</td>\n",
       "      <td>6.0</td>\n",
       "      <td>Espresso</td>\n",
       "      <td>0.5230</td>\n",
       "    </tr>\n",
       "    <tr>\n",
       "      <th>6</th>\n",
       "      <td>34</td>\n",
       "      <td>Bianco Piccolo</td>\n",
       "      <td>Espresso</td>\n",
       "      <td>Sweet &amp; Smooth</td>\n",
       "      <td>NaN</td>\n",
       "      <td>Barista Creations</td>\n",
       "      <td>0.5117</td>\n",
       "    </tr>\n",
       "    <tr>\n",
       "      <th>7</th>\n",
       "      <td>8</td>\n",
       "      <td>Inizio</td>\n",
       "      <td>Gran Lungo</td>\n",
       "      <td>Floral &amp; Cereal</td>\n",
       "      <td>4.0</td>\n",
       "      <td>Gran Lungo</td>\n",
       "      <td>0.5018</td>\n",
       "    </tr>\n",
       "    <tr>\n",
       "      <th>8</th>\n",
       "      <td>16</td>\n",
       "      <td>Il Caffè</td>\n",
       "      <td>Espresso</td>\n",
       "      <td>Exceptionally Intense &amp; Velvety</td>\n",
       "      <td>11.0</td>\n",
       "      <td>Espresso</td>\n",
       "      <td>0.4875</td>\n",
       "    </tr>\n",
       "    <tr>\n",
       "      <th>9</th>\n",
       "      <td>6</td>\n",
       "      <td>Half Caffeinato</td>\n",
       "      <td>Coffee</td>\n",
       "      <td>Sweet &amp; Velvety</td>\n",
       "      <td>5.0</td>\n",
       "      <td>Signature Coffee</td>\n",
       "      <td>0.4857</td>\n",
       "    </tr>\n",
       "  </tbody>\n",
       "</table>\n",
       "</div>"
      ],
      "text/plain": [
       "   id                         Name     Serving  \\\n",
       "0  26  Carafe Pour-Over Style Mild      Carafe   \n",
       "1   1                      Intenso      Coffee   \n",
       "2  10                       Odacio      Coffee   \n",
       "3  29                 Bianco Forte      Coffee   \n",
       "4   9                      Solelio      Coffee   \n",
       "5  22                       Orafio    Espresso   \n",
       "6  34               Bianco Piccolo    Espresso   \n",
       "7   8                       Inizio  Gran Lungo   \n",
       "8  16                     Il Caffè    Espresso   \n",
       "9   6              Half Caffeinato      Coffee   \n",
       "\n",
       "                                         Headline  Intensity  \\\n",
       "0                         Toasted Cereal & Malted        NaN   \n",
       "1                                 Smooth & Strong        9.0   \n",
       "2                                   Bold & Lively        7.0   \n",
       "3  Full & Balanced; For Intense Recipes With Milk        NaN   \n",
       "4                         Fruity & Lightly-Bodied        2.0   \n",
       "5                               Caramel & Roasted        6.0   \n",
       "6                                  Sweet & Smooth        NaN   \n",
       "7                                 Floral & Cereal        4.0   \n",
       "8                 Exceptionally Intense & Velvety       11.0   \n",
       "9                                 Sweet & Velvety        5.0   \n",
       "\n",
       "            Category  Similarity Score  \n",
       "0         Craft Brew            0.6286  \n",
       "1   Signature Coffee            0.6110  \n",
       "2   Signature Coffee            0.5890  \n",
       "3  Barista Creations            0.5451  \n",
       "4   Signature Coffee            0.5388  \n",
       "5           Espresso            0.5230  \n",
       "6  Barista Creations            0.5117  \n",
       "7         Gran Lungo            0.5018  \n",
       "8           Espresso            0.4875  \n",
       "9   Signature Coffee            0.4857  "
      ]
     },
     "execution_count": 11,
     "metadata": {},
     "output_type": "execute_result"
    }
   ],
   "source": [
    "def get_recommendationResultsBagOfWords_Vertuo(df_Prep, coffee_select, numRec, min_df, max_df, max_features, stop_words, analyzer, token_pattern, n_lower, n_upper):\n",
    "    df_NLP = get_dataframeNLP_Vertuo(df_Prep, coffee_select);\n",
    "    \n",
    "    # vectorizer = CountVectorizer(analyzer='word', token_pattern=token_pattern, ngram_range=(n_lower, n_upper));\n",
    "    vectorizer = CountVectorizer(min_df=min_df, max_df=max_df, max_features=max_features, stop_words=stop_words, analyzer=analyzer, token_pattern=token_pattern, ngram_range=(n_lower, n_upper));\n",
    "    matrix = vectorizer.fit_transform(df_NLP[\"Textual Info\"]);\n",
    "    cosine_sim = cosine_similarity(matrix, matrix);\n",
    "    indices = pd.Series(df_NLP.index, index=df_NLP[\"Name\"]).drop_duplicates();\n",
    "    \n",
    "    df_Rec = get_recommendations_Vertuo(df_NLP, coffee_select, numRec, indices, cosine_sim);\n",
    "    \n",
    "    return df_Rec;\n",
    "\n",
    "# General Parameters:\n",
    "df_Prep = dfVertuo_Prep;\n",
    "coffee_select = \"Stormio\";\n",
    "numRec = 10;\n",
    "min_df = 5;\n",
    "max_df = 0.95;\n",
    "max_features = 50;\n",
    "stop_words = \"english\";\n",
    "n_lower = 1;\n",
    "n_upper = 1;\n",
    "# Unique Parameters:\n",
    "analyzer = \"word\";\n",
    "token_pattern = r\"\\b[a-zA-Z]{3,}\\b\";\n",
    "\n",
    "get_recommendationResultsBagOfWords_Vertuo(df_Prep, coffee_select, numRec, min_df, max_df, max_features, stop_words, analyzer, token_pattern, n_lower, n_upper)"
   ]
  },
  {
   "cell_type": "markdown",
   "metadata": {},
   "source": [
    "##### Feature Results"
   ]
  },
  {
   "cell_type": "code",
   "execution_count": 12,
   "metadata": {},
   "outputs": [
    {
     "data": {
      "text/html": [
       "<div>\n",
       "<style scoped>\n",
       "    .dataframe tbody tr th:only-of-type {\n",
       "        vertical-align: middle;\n",
       "    }\n",
       "\n",
       "    .dataframe tbody tr th {\n",
       "        vertical-align: top;\n",
       "    }\n",
       "\n",
       "    .dataframe thead th {\n",
       "        text-align: right;\n",
       "    }\n",
       "</style>\n",
       "<table border=\"1\" class=\"dataframe\">\n",
       "  <thead>\n",
       "    <tr style=\"text-align: right;\">\n",
       "      <th></th>\n",
       "      <th>Bag of Words</th>\n",
       "    </tr>\n",
       "  </thead>\n",
       "  <tbody>\n",
       "    <tr>\n",
       "      <th>coffees</th>\n",
       "      <td>2</td>\n",
       "    </tr>\n",
       "    <tr>\n",
       "      <th>arabica</th>\n",
       "      <td>2</td>\n",
       "    </tr>\n",
       "    <tr>\n",
       "      <th>notes</th>\n",
       "      <td>2</td>\n",
       "    </tr>\n",
       "    <tr>\n",
       "      <th>roast</th>\n",
       "      <td>2</td>\n",
       "    </tr>\n",
       "    <tr>\n",
       "      <th>roasted</th>\n",
       "      <td>2</td>\n",
       "    </tr>\n",
       "    <tr>\n",
       "      <th>smooth</th>\n",
       "      <td>1</td>\n",
       "    </tr>\n",
       "    <tr>\n",
       "      <th>intense</th>\n",
       "      <td>1</td>\n",
       "    </tr>\n",
       "    <tr>\n",
       "      <th>fullbodied</th>\n",
       "      <td>1</td>\n",
       "    </tr>\n",
       "    <tr>\n",
       "      <th>milk</th>\n",
       "      <td>1</td>\n",
       "    </tr>\n",
       "    <tr>\n",
       "      <th>long</th>\n",
       "      <td>1</td>\n",
       "    </tr>\n",
       "    <tr>\n",
       "      <th>cereal</th>\n",
       "      <td>1</td>\n",
       "    </tr>\n",
       "    <tr>\n",
       "      <th>love</th>\n",
       "      <td>1</td>\n",
       "    </tr>\n",
       "    <tr>\n",
       "      <th>blend</th>\n",
       "      <td>1</td>\n",
       "    </tr>\n",
       "    <tr>\n",
       "      <th>taste</th>\n",
       "      <td>1</td>\n",
       "    </tr>\n",
       "    <tr>\n",
       "      <th>aromatics</th>\n",
       "      <td>1</td>\n",
       "    </tr>\n",
       "    <tr>\n",
       "      <th>vertuo</th>\n",
       "      <td>1</td>\n",
       "    </tr>\n",
       "  </tbody>\n",
       "</table>\n",
       "</div>"
      ],
      "text/plain": [
       "            Bag of Words\n",
       "coffees                2\n",
       "arabica                2\n",
       "notes                  2\n",
       "roast                  2\n",
       "roasted                2\n",
       "smooth                 1\n",
       "intense                1\n",
       "fullbodied             1\n",
       "milk                   1\n",
       "long                   1\n",
       "cereal                 1\n",
       "love                   1\n",
       "blend                  1\n",
       "taste                  1\n",
       "aromatics              1\n",
       "vertuo                 1"
      ]
     },
     "execution_count": 12,
     "metadata": {},
     "output_type": "execute_result"
    }
   ],
   "source": [
    "def get_FeatureResultsBagOfWords_Vertuo(df_Prep, coffee_select, numRec, min_df, max_df, max_features, stop_words, analyzer, token_pattern, n_lower, n_upper):\n",
    "    df_NLP = get_dataframeNLP_Vertuo(df_Prep, coffee_select);\n",
    "        \n",
    "    vectorizer = CountVectorizer(min_df=min_df, max_df=max_df, max_features=max_features, stop_words=stop_words, analyzer=analyzer, token_pattern=token_pattern, ngram_range=(n_lower, n_upper));\n",
    "    matrix = vectorizer.fit_transform(df_NLP[\"Textual Info\"]);\n",
    "    df_Feature = pd.DataFrame(matrix[0].T.todense(), \n",
    "        index=vectorizer.get_feature_names_out(), \n",
    "        columns=[\"Bag of Words\"]\n",
    "    );\n",
    "    df_Feature = df_Feature.sort_values('Bag of Words', ascending=False);\n",
    "    df_Feature = df_Feature[df_Feature[\"Bag of Words\"] > 0];\n",
    "    return df_Feature;\n",
    "\n",
    "# General Parameters:\n",
    "df_Prep = dfVertuo_Prep;\n",
    "coffee_select = \"Stormio\";\n",
    "numRec = 10;\n",
    "min_df = 5;\n",
    "max_df = 0.95;\n",
    "max_features = 50;\n",
    "stop_words = \"english\";\n",
    "n_lower = 1;\n",
    "n_upper = 1;\n",
    "# Unique Parameters:\n",
    "analyzer = \"word\";\n",
    "token_pattern = r\"\\b[a-zA-Z]{3,}\\b\";\n",
    "\n",
    "get_FeatureResultsBagOfWords_Vertuo(df_Prep, coffee_select, numRec, min_df, max_df, max_features, stop_words, analyzer, token_pattern, n_lower, n_upper)"
   ]
  },
  {
   "cell_type": "markdown",
   "metadata": {},
   "source": [
    "### Machine Learning & Validation"
   ]
  },
  {
   "cell_type": "markdown",
   "metadata": {},
   "source": [
    "#### TF-IDF"
   ]
  },
  {
   "cell_type": "code",
   "execution_count": 13,
   "metadata": {},
   "outputs": [
    {
     "data": {
      "text/plain": [
       "Text(0.5, 1.0, 'Sparse Matrix Sample')"
      ]
     },
     "execution_count": 13,
     "metadata": {},
     "output_type": "execute_result"
    },
    {
     "data": {
      "image/png": "[encoded data removed]",
      "text/plain": [
       "<Figure size 640x480 with 1 Axes>"
      ]
     },
     "metadata": {},
     "output_type": "display_data"
    }
   ],
   "source": [
    "def getTrainTest(df_Prep, test_size):\n",
    "    df_Train, df_Test = train_test_split(df_Prep, test_size=0.3);\n",
    "    return df_Train, df_Test;\n",
    "\n",
    "def getSparseMatrixTFIDF(df_Prep, test_size, min_df, max_df, max_features, stop_words, sublinear_tf, n_lower, n_upper):\n",
    "    df_Train, df_Test = getTrainTest(df_Prep, test_size);\n",
    "    vectorizer = TfidfVectorizer(min_df=min_df, max_df=max_df, max_features=max_features, stop_words=stop_words, sublinear_tf=sublinear_tf, ngram_range=(n_lower, n_upper));\n",
    "    X_train = vectorizer.fit_transform(df_Train[\"Textual Info\"]);\n",
    "    fig = sns.heatmap(X_train.todense()[:,np.random.randint(0,X_train.shape[1],100)]==0, vmin=0, vmax=1, cbar=False).set_title('Sparse Matrix Sample');\n",
    "    return fig;\n",
    "\n",
    "# General Parameters:\n",
    "df_Prep = dfVertuo_Prep;\n",
    "test_size = 0.3;\n",
    "min_df = 2;\n",
    "max_df = 0.95;\n",
    "max_features = 50;\n",
    "stop_words = \"english\";\n",
    "n_lower = 1;\n",
    "n_upper = 1;\n",
    "# Unique Parameters:\n",
    "sublinear_tf = True;\n",
    "\n",
    "getSparseMatrixTFIDF(df_Prep, test_size, min_df, max_df, max_features, stop_words, sublinear_tf, n_lower, n_upper)"
   ]
  },
  {
   "cell_type": "code",
   "execution_count": 14,
   "metadata": {},
   "outputs": [
    {
     "name": "stderr",
     "output_type": "stream",
     "text": [
      "C:\\Users\\kunal\\AppData\\Local\\Temp\\ipykernel_12512\\220373274.py:11: FutureWarning:\n",
      "\n",
      "The frame.append method is deprecated and will be removed from pandas in a future version. Use pandas.concat instead.\n",
      "\n",
      "C:\\Users\\kunal\\AppData\\Local\\Temp\\ipykernel_12512\\220373274.py:11: FutureWarning:\n",
      "\n",
      "The frame.append method is deprecated and will be removed from pandas in a future version. Use pandas.concat instead.\n",
      "\n",
      "C:\\Users\\kunal\\AppData\\Local\\Temp\\ipykernel_12512\\220373274.py:11: FutureWarning:\n",
      "\n",
      "The frame.append method is deprecated and will be removed from pandas in a future version. Use pandas.concat instead.\n",
      "\n",
      "C:\\Users\\kunal\\AppData\\Local\\Temp\\ipykernel_12512\\220373274.py:11: FutureWarning:\n",
      "\n",
      "The frame.append method is deprecated and will be removed from pandas in a future version. Use pandas.concat instead.\n",
      "\n",
      "C:\\Users\\kunal\\AppData\\Local\\Temp\\ipykernel_12512\\220373274.py:11: FutureWarning:\n",
      "\n",
      "The frame.append method is deprecated and will be removed from pandas in a future version. Use pandas.concat instead.\n",
      "\n"
     ]
    },
    {
     "name": "stdout",
     "output_type": "stream",
     "text": [
      "# Carafe:\n",
      "  . selected features: 0\n",
      "  . top features: \n",
      " \n",
      "# Coffee:\n",
      "  . selected features: 0\n",
      "  . top features: \n",
      " \n",
      "# Double Espresso:\n",
      "  . selected features: 1\n",
      "  . top features: double\n",
      " \n",
      "# Espresso:\n",
      "  . selected features: 0\n",
      "  . top features: \n",
      " \n",
      "# Gran Lungo:\n",
      "  . selected features: 2\n",
      "  . top features: gran,lungo\n",
      " \n"
     ]
    },
    {
     "data": {
      "text/plain": [
       "Text(0.5, 1.0, 'Sparse Matrix Sample')"
      ]
     },
     "execution_count": 14,
     "metadata": {},
     "output_type": "execute_result"
    },
    {
     "data": {
      "image/png": "[encoded data removed]",
      "text/plain": [
       "<Figure size 640x480 with 1 Axes>"
      ]
     },
     "metadata": {},
     "output_type": "display_data"
    }
   ],
   "source": [
    "def getSparseMatrixTFIDF_FeatureSelection(df_Prep, test_size, min_df, max_df, max_features, stop_words, sublinear_tf, n_lower, n_upper, p_value_limit):\n",
    "    df_Train, df_Test = getTrainTest(df_Prep, test_size);\n",
    "    vectorizer = TfidfVectorizer(min_df=min_df, max_df=max_df, max_features=max_features, stop_words=stop_words, sublinear_tf=sublinear_tf, ngram_range=(n_lower, n_upper));\n",
    "    X_train = vectorizer.fit_transform(df_Train[\"Textual Info\"]);\n",
    "    \n",
    "    y = df_Train[\"Serving\"];\n",
    "    X_names = vectorizer.get_feature_names_out();\n",
    "    dtf_features = pd.DataFrame()\n",
    "    for cat in np.unique(y):\n",
    "        chi, p = chi2(X_train, y==cat)\n",
    "        dtf_features = dtf_features.append(pd.DataFrame(\n",
    "                    {\"feature\":X_names, \"score\":1-p, \"y\":cat}))\n",
    "        dtf_features = dtf_features.sort_values([\"y\",\"score\"], \n",
    "                        ascending=[True,False])\n",
    "        dtf_features = dtf_features[dtf_features[\"score\"]>p_value_limit]\n",
    "    X_names = dtf_features[\"feature\"].unique().tolist()\n",
    "    \n",
    "    for cat in np.unique(y):\n",
    "        print(\"# {}:\".format(cat))\n",
    "        print(\"  . selected features:\", len(dtf_features[dtf_features[\"y\"]==cat]))\n",
    "        print(\"  . top features:\", \",\".join(\n",
    "        dtf_features[dtf_features[\"y\"]==cat][\"feature\"].values[:10]))\n",
    "        print(\" \")\n",
    "    \n",
    "    vectorizer = TfidfVectorizer(min_df=min_df, max_df=max_df, max_features=max_features, stop_words=stop_words, sublinear_tf=sublinear_tf, vocabulary=X_names);\n",
    "    X_train = vectorizer.fit_transform(df_Train[\"Textual Info\"]);\n",
    "    fig = sns.heatmap(X_train.todense()[:,np.random.randint(0,X_train.shape[1],100)]==0, vmin=0, vmax=1, cbar=False).set_title('Sparse Matrix Sample');\n",
    "\n",
    "    return fig;\n",
    "\n",
    "# General Parameters:\n",
    "df_Prep = dfVertuo_Prep;\n",
    "test_size = 0.3;\n",
    "min_df = 2;\n",
    "max_df = 0.95;\n",
    "max_features = 50;\n",
    "stop_words = \"english\";\n",
    "n_lower = 1;\n",
    "n_upper = 1;\n",
    "p_value_limit = 0.95;\n",
    "# Unique Parameters:\n",
    "sublinear_tf = True;\n",
    "\n",
    "getSparseMatrixTFIDF_FeatureSelection(df_Prep, test_size, min_df, max_df, max_features, stop_words, sublinear_tf, n_lower, n_upper, p_value_limit)"
   ]
  },
  {
   "cell_type": "markdown",
   "metadata": {},
   "source": [
    "##### Modeling"
   ]
  },
  {
   "cell_type": "markdown",
   "metadata": {},
   "source": [
    "###### Multinomial NB and Cross Validation"
   ]
  },
  {
   "cell_type": "code",
   "execution_count": 15,
   "metadata": {},
   "outputs": [
    {
     "data": {
      "text/html": [
       "<style>#sk-container-id-1 {color: black;background-color: white;}#sk-container-id-1 pre{padding: 0;}#sk-container-id-1 div.sk-toggleable {background-color: white;}#sk-container-id-1 label.sk-toggleable__label {cursor: pointer;display: block;width: 100%;margin-bottom: 0;padding: 0.3em;box-sizing: border-box;text-align: center;}#sk-container-id-1 label.sk-toggleable__label-arrow:before {content: \"▸\";float: left;margin-right: 0.25em;color: #696969;}#sk-container-id-1 label.sk-toggleable__label-arrow:hover:before {color: black;}#sk-container-id-1 div.sk-estimator:hover label.sk-toggleable__label-arrow:before {color: black;}#sk-container-id-1 div.sk-toggleable__content {max-height: 0;max-width: 0;overflow: hidden;text-align: left;background-color: #f0f8ff;}#sk-container-id-1 div.sk-toggleable__content pre {margin: 0.2em;color: black;border-radius: 0.25em;background-color: #f0f8ff;}#sk-container-id-1 input.sk-toggleable__control:checked~div.sk-toggleable__content {max-height: 200px;max-width: 100%;overflow: auto;}#sk-container-id-1 input.sk-toggleable__control:checked~label.sk-toggleable__label-arrow:before {content: \"▾\";}#sk-container-id-1 div.sk-estimator input.sk-toggleable__control:checked~label.sk-toggleable__label {background-color: #d4ebff;}#sk-container-id-1 div.sk-label input.sk-toggleable__control:checked~label.sk-toggleable__label {background-color: #d4ebff;}#sk-container-id-1 input.sk-hidden--visually {border: 0;clip: rect(1px 1px 1px 1px);clip: rect(1px, 1px, 1px, 1px);height: 1px;margin: -1px;overflow: hidden;padding: 0;position: absolute;width: 1px;}#sk-container-id-1 div.sk-estimator {font-family: monospace;background-color: #f0f8ff;border: 1px dotted black;border-radius: 0.25em;box-sizing: border-box;margin-bottom: 0.5em;}#sk-container-id-1 div.sk-estimator:hover {background-color: #d4ebff;}#sk-container-id-1 div.sk-parallel-item::after {content: \"\";width: 100%;border-bottom: 1px solid gray;flex-grow: 1;}#sk-container-id-1 div.sk-label:hover label.sk-toggleable__label {background-color: #d4ebff;}#sk-container-id-1 div.sk-serial::before {content: \"\";position: absolute;border-left: 1px solid gray;box-sizing: border-box;top: 0;bottom: 0;left: 50%;z-index: 0;}#sk-container-id-1 div.sk-serial {display: flex;flex-direction: column;align-items: center;background-color: white;padding-right: 0.2em;padding-left: 0.2em;position: relative;}#sk-container-id-1 div.sk-item {position: relative;z-index: 1;}#sk-container-id-1 div.sk-parallel {display: flex;align-items: stretch;justify-content: center;background-color: white;position: relative;}#sk-container-id-1 div.sk-item::before, #sk-container-id-1 div.sk-parallel-item::before {content: \"\";position: absolute;border-left: 1px solid gray;box-sizing: border-box;top: 0;bottom: 0;left: 50%;z-index: -1;}#sk-container-id-1 div.sk-parallel-item {display: flex;flex-direction: column;z-index: 1;position: relative;background-color: white;}#sk-container-id-1 div.sk-parallel-item:first-child::after {align-self: flex-end;width: 50%;}#sk-container-id-1 div.sk-parallel-item:last-child::after {align-self: flex-start;width: 50%;}#sk-container-id-1 div.sk-parallel-item:only-child::after {width: 0;}#sk-container-id-1 div.sk-dashed-wrapped {border: 1px dashed gray;margin: 0 0.4em 0.5em 0.4em;box-sizing: border-box;padding-bottom: 0.4em;background-color: white;}#sk-container-id-1 div.sk-label label {font-family: monospace;font-weight: bold;display: inline-block;line-height: 1.2em;}#sk-container-id-1 div.sk-label-container {text-align: center;}#sk-container-id-1 div.sk-container {/* jupyter's `normalize.less` sets `[hidden] { display: none; }` but bootstrap.min.css set `[hidden] { display: none !important; }` so we also need the `!important` here to be able to override the default hidden behavior on the sphinx rendered scikit-learn.org. See: https://github.com/scikit-learn/scikit-learn/issues/21755 */display: inline-block !important;position: relative;}#sk-container-id-1 div.sk-text-repr-fallback {display: none;}</style><div id=\"sk-container-id-1\" class=\"sk-top-container\"><div class=\"sk-text-repr-fallback\"><pre>Pipeline(steps=[(&#x27;tfidf&#x27;, TfidfVectorizer()), (&#x27;mulNB&#x27;, MultinomialNB())])</pre><b>In a Jupyter environment, please rerun this cell to show the HTML representation or trust the notebook. <br />On GitHub, the HTML representation is unable to render, please try loading this page with nbviewer.org.</b></div><div class=\"sk-container\" hidden><div class=\"sk-item sk-dashed-wrapped\"><div class=\"sk-label-container\"><div class=\"sk-label sk-toggleable\"><input class=\"sk-toggleable__control sk-hidden--visually\" id=\"sk-estimator-id-1\" type=\"checkbox\" ><label for=\"sk-estimator-id-1\" class=\"sk-toggleable__label sk-toggleable__label-arrow\">Pipeline</label><div class=\"sk-toggleable__content\"><pre>Pipeline(steps=[(&#x27;tfidf&#x27;, TfidfVectorizer()), (&#x27;mulNB&#x27;, MultinomialNB())])</pre></div></div></div><div class=\"sk-serial\"><div class=\"sk-item\"><div class=\"sk-estimator sk-toggleable\"><input class=\"sk-toggleable__control sk-hidden--visually\" id=\"sk-estimator-id-2\" type=\"checkbox\" ><label for=\"sk-estimator-id-2\" class=\"sk-toggleable__label sk-toggleable__label-arrow\">TfidfVectorizer</label><div class=\"sk-toggleable__content\"><pre>TfidfVectorizer()</pre></div></div></div><div class=\"sk-item\"><div class=\"sk-estimator sk-toggleable\"><input class=\"sk-toggleable__control sk-hidden--visually\" id=\"sk-estimator-id-3\" type=\"checkbox\" ><label for=\"sk-estimator-id-3\" class=\"sk-toggleable__label sk-toggleable__label-arrow\">MultinomialNB</label><div class=\"sk-toggleable__content\"><pre>MultinomialNB()</pre></div></div></div></div></div></div></div>"
      ],
      "text/plain": [
       "Pipeline(steps=[('tfidf', TfidfVectorizer()), ('mulNB', MultinomialNB())])"
      ]
     },
     "execution_count": 15,
     "metadata": {},
     "output_type": "execute_result"
    }
   ],
   "source": [
    "X_train, X_test, y_train, y_test = train_test_split(dfVertuo_Prep[\"Textual Info\"], dfVertuo_Prep[\"Serving\"], test_size=0.3, random_state=42)\n",
    "pipe = Pipeline([\n",
    "    ('tfidf', TfidfVectorizer()), \n",
    "    ('mulNB', MultinomialNB())\n",
    "])\n",
    "pipe.fit(X_train, y_train)"
   ]
  },
  {
   "cell_type": "code",
   "execution_count": 16,
   "metadata": {},
   "outputs": [
    {
     "data": {
      "text/plain": [
       "0.36363636363636365"
      ]
     },
     "execution_count": 16,
     "metadata": {},
     "output_type": "execute_result"
    }
   ],
   "source": [
    "pipe.score(X_test, y_test)"
   ]
  },
  {
   "cell_type": "code",
   "execution_count": 17,
   "metadata": {},
   "outputs": [
    {
     "name": "stderr",
     "output_type": "stream",
     "text": [
      "c:\\Users\\kunal\\anaconda3\\lib\\site-packages\\sklearn\\model_selection\\_split.py:680: UserWarning:\n",
      "\n",
      "The least populated class in y has only 1 members, which is less than n_splits=10.\n",
      "\n"
     ]
    },
    {
     "name": "stdout",
     "output_type": "stream",
     "text": [
      "done in 2.056s\n",
      "0.5833333333333333\n",
      "{'mulNB__alpha': 0.03}\n"
     ]
    }
   ],
   "source": [
    "parameters = {\n",
    "    'mulNB__alpha': [1, 0.7, 0.4, 0.2, 0.1, 0.09, 0.08, 0.07, 0.06, 0.03, 0.01] \n",
    "}\n",
    "\n",
    "grid = GridSearchCV(pipe, param_grid=parameters, cv=10, refit=True)\n",
    "t0 = time()\n",
    "grid.fit(X_train, y_train)\n",
    "print(\"done in %0.3fs\" % (time() - t0))\n",
    "print(grid.best_score_)\n",
    "print(grid.best_params_)"
   ]
  },
  {
   "cell_type": "code",
   "execution_count": 18,
   "metadata": {},
   "outputs": [
    {
     "data": {
      "text/plain": [
       "0.6363636363636364"
      ]
     },
     "execution_count": 18,
     "metadata": {},
     "output_type": "execute_result"
    }
   ],
   "source": [
    "grid.score(X_test, y_test)"
   ]
  },
  {
   "cell_type": "markdown",
   "metadata": {},
   "source": [
    "## **Original**"
   ]
  },
  {
   "cell_type": "markdown",
   "metadata": {},
   "source": [
    "### Data Preparation"
   ]
  },
  {
   "cell_type": "code",
   "execution_count": 19,
   "metadata": {},
   "outputs": [
    {
     "name": "stdout",
     "output_type": "stream",
     "text": [
      "Index(['ID', 'Name', 'Type', 'Serving', 'Serving Size', 'Headline',\n",
      "       'Intensity', 'Sleeve Price', 'Per Capsule Price', 'Caption', 'Taste',\n",
      "       'Best Served As', 'Notes', 'Acidity', 'Bitterness', 'Roastness', 'Body',\n",
      "       'Milky Taste', 'Bitterness with Milk', 'Roastiness with Milk',\n",
      "       'Creamy Texture', 'Ingredients & Allergens',\n",
      "       'Number of Capsules per Sleeve',\n",
      "       'Net Weight per Total Number of Capsules', 'Capsule Image Link',\n",
      "       'Capsule & Sleeve Image Link', 'Decaf Coffee?', 'Category',\n",
      "       'Other Information', 'Status'],\n",
      "      dtype='object')\n"
     ]
    },
    {
     "data": {
      "text/html": [
       "<div>\n",
       "<style scoped>\n",
       "    .dataframe tbody tr th:only-of-type {\n",
       "        vertical-align: middle;\n",
       "    }\n",
       "\n",
       "    .dataframe tbody tr th {\n",
       "        vertical-align: top;\n",
       "    }\n",
       "\n",
       "    .dataframe thead th {\n",
       "        text-align: right;\n",
       "    }\n",
       "</style>\n",
       "<table border=\"1\" class=\"dataframe\">\n",
       "  <thead>\n",
       "    <tr style=\"text-align: right;\">\n",
       "      <th></th>\n",
       "      <th>ID</th>\n",
       "      <th>Name</th>\n",
       "      <th>Type</th>\n",
       "      <th>Serving</th>\n",
       "      <th>Serving Size</th>\n",
       "      <th>Headline</th>\n",
       "      <th>Intensity</th>\n",
       "      <th>Sleeve Price</th>\n",
       "      <th>Per Capsule Price</th>\n",
       "      <th>Caption</th>\n",
       "      <th>...</th>\n",
       "      <th>Creamy Texture</th>\n",
       "      <th>Ingredients &amp; Allergens</th>\n",
       "      <th>Number of Capsules per Sleeve</th>\n",
       "      <th>Net Weight per Total Number of Capsules</th>\n",
       "      <th>Capsule Image Link</th>\n",
       "      <th>Capsule &amp; Sleeve Image Link</th>\n",
       "      <th>Decaf Coffee?</th>\n",
       "      <th>Category</th>\n",
       "      <th>Other Information</th>\n",
       "      <th>Status</th>\n",
       "    </tr>\n",
       "  </thead>\n",
       "  <tbody>\n",
       "    <tr>\n",
       "      <th>0</th>\n",
       "      <td>OL1</td>\n",
       "      <td>Inspirazione Napoli</td>\n",
       "      <td>Original</td>\n",
       "      <td>Espresso</td>\n",
       "      <td>40ml</td>\n",
       "      <td>Dark &amp; Creamy</td>\n",
       "      <td>13.0</td>\n",
       "      <td>8.7</td>\n",
       "      <td>0.87</td>\n",
       "      <td>The most intense and darkest roast in this ran...</td>\n",
       "      <td>...</td>\n",
       "      <td>NaN</td>\n",
       "      <td>Roast and ground coffee</td>\n",
       "      <td>10</td>\n",
       "      <td>57 g</td>\n",
       "      <td>https://www.nespresso.com/ecom/medias/sys_mast...</td>\n",
       "      <td>https://www.nespresso.com/shared_res/agility/n...</td>\n",
       "      <td>No</td>\n",
       "      <td>Inspirazione Italiana</td>\n",
       "      <td>NaN</td>\n",
       "      <td>Current</td>\n",
       "    </tr>\n",
       "  </tbody>\n",
       "</table>\n",
       "<p>1 rows × 30 columns</p>\n",
       "</div>"
      ],
      "text/plain": [
       "    ID                 Name      Type   Serving Serving Size       Headline  \\\n",
       "0  OL1  Inspirazione Napoli  Original  Espresso         40ml  Dark & Creamy   \n",
       "\n",
       "   Intensity  Sleeve Price  Per Capsule Price  \\\n",
       "0       13.0           8.7               0.87   \n",
       "\n",
       "                                             Caption  ... Creamy Texture  \\\n",
       "0  The most intense and darkest roast in this ran...  ...            NaN   \n",
       "\n",
       "   Ingredients & Allergens Number of Capsules per Sleeve  \\\n",
       "0  Roast and ground coffee                            10   \n",
       "\n",
       "   Net Weight per Total Number of Capsules  \\\n",
       "0                                     57 g   \n",
       "\n",
       "                                  Capsule Image Link  \\\n",
       "0  https://www.nespresso.com/ecom/medias/sys_mast...   \n",
       "\n",
       "                         Capsule & Sleeve Image Link  Decaf Coffee?  \\\n",
       "0  https://www.nespresso.com/shared_res/agility/n...             No   \n",
       "\n",
       "                Category  Other Information   Status  \n",
       "0  Inspirazione Italiana                NaN  Current  \n",
       "\n",
       "[1 rows x 30 columns]"
      ]
     },
     "execution_count": 19,
     "metadata": {},
     "output_type": "execute_result"
    }
   ],
   "source": [
    "dfOriginal_Raw = pd.read_excel(\"Dataset/CoffeeData.xlsx\", index_col=False, sheet_name=\"Original\");\n",
    "dfOriginal_Raw = dfOriginal_Raw[dfOriginal_Raw[\"Status\"] == \"Current\"];\n",
    "print(dfOriginal_Raw.columns)\n",
    "dfOriginal_Raw[0:1]"
   ]
  },
  {
   "cell_type": "code",
   "execution_count": 20,
   "metadata": {},
   "outputs": [
    {
     "name": "stdout",
     "output_type": "stream",
     "text": [
      "espresso dark creamy the most intense and dark roast in this range inspired by the capital of coffee reveals the deeprooted roasting traditions of naples its depth of character should come as no surprise ispirazione napoli pays tribute to the short strong and dark espressos of this southern italian coastal city it a velvety creamy cup with an extremely thick body and a kiss of pleasant bitterness in its aftertaste a velvety creamy cup with an extremely thick body and pleasantly bitter cocoa notes ristretto 25ml espresso 40ml intense roasted inspirazione italiana\n"
     ]
    },
    {
     "data": {
      "text/html": [
       "<div>\n",
       "<style scoped>\n",
       "    .dataframe tbody tr th:only-of-type {\n",
       "        vertical-align: middle;\n",
       "    }\n",
       "\n",
       "    .dataframe tbody tr th {\n",
       "        vertical-align: top;\n",
       "    }\n",
       "\n",
       "    .dataframe thead th {\n",
       "        text-align: right;\n",
       "    }\n",
       "</style>\n",
       "<table border=\"1\" class=\"dataframe\">\n",
       "  <thead>\n",
       "    <tr style=\"text-align: right;\">\n",
       "      <th></th>\n",
       "      <th>ID</th>\n",
       "      <th>Name</th>\n",
       "      <th>Type</th>\n",
       "      <th>Serving</th>\n",
       "      <th>Serving Size</th>\n",
       "      <th>Headline</th>\n",
       "      <th>Intensity</th>\n",
       "      <th>Sleeve Price</th>\n",
       "      <th>Per Capsule Price</th>\n",
       "      <th>Caption</th>\n",
       "      <th>...</th>\n",
       "      <th>Ingredients &amp; Allergens</th>\n",
       "      <th>Number of Capsules per Sleeve</th>\n",
       "      <th>Net Weight per Total Number of Capsules</th>\n",
       "      <th>Capsule Image Link</th>\n",
       "      <th>Capsule &amp; Sleeve Image Link</th>\n",
       "      <th>Decaf Coffee?</th>\n",
       "      <th>Category</th>\n",
       "      <th>Other Information</th>\n",
       "      <th>Status</th>\n",
       "      <th>Textual Info</th>\n",
       "    </tr>\n",
       "  </thead>\n",
       "  <tbody>\n",
       "    <tr>\n",
       "      <th>0</th>\n",
       "      <td>OL1</td>\n",
       "      <td>Inspirazione Napoli</td>\n",
       "      <td>Original</td>\n",
       "      <td>Espresso</td>\n",
       "      <td>40ml</td>\n",
       "      <td>Dark &amp; Creamy</td>\n",
       "      <td>13.0</td>\n",
       "      <td>8.7</td>\n",
       "      <td>0.87</td>\n",
       "      <td>The most intense and darkest roast in this ran...</td>\n",
       "      <td>...</td>\n",
       "      <td>Roast and ground coffee</td>\n",
       "      <td>10</td>\n",
       "      <td>57 g</td>\n",
       "      <td>https://www.nespresso.com/ecom/medias/sys_mast...</td>\n",
       "      <td>https://www.nespresso.com/shared_res/agility/n...</td>\n",
       "      <td>No</td>\n",
       "      <td>Inspirazione Italiana</td>\n",
       "      <td>NaN</td>\n",
       "      <td>Current</td>\n",
       "      <td>espresso dark creamy the most intense and dark...</td>\n",
       "    </tr>\n",
       "  </tbody>\n",
       "</table>\n",
       "<p>1 rows × 31 columns</p>\n",
       "</div>"
      ],
      "text/plain": [
       "    ID                 Name      Type   Serving Serving Size       Headline  \\\n",
       "0  OL1  Inspirazione Napoli  Original  Espresso         40ml  Dark & Creamy   \n",
       "\n",
       "   Intensity  Sleeve Price  Per Capsule Price  \\\n",
       "0       13.0           8.7               0.87   \n",
       "\n",
       "                                             Caption  ...  \\\n",
       "0  The most intense and darkest roast in this ran...  ...   \n",
       "\n",
       "   Ingredients & Allergens Number of Capsules per Sleeve  \\\n",
       "0  Roast and ground coffee                            10   \n",
       "\n",
       "  Net Weight per Total Number of Capsules  \\\n",
       "0                                    57 g   \n",
       "\n",
       "                                  Capsule Image Link  \\\n",
       "0  https://www.nespresso.com/ecom/medias/sys_mast...   \n",
       "\n",
       "                         Capsule & Sleeve Image Link  Decaf Coffee?  \\\n",
       "0  https://www.nespresso.com/shared_res/agility/n...             No   \n",
       "\n",
       "                Category  Other Information   Status  \\\n",
       "0  Inspirazione Italiana                NaN  Current   \n",
       "\n",
       "                                        Textual Info  \n",
       "0  espresso dark creamy the most intense and dark...  \n",
       "\n",
       "[1 rows x 31 columns]"
      ]
     },
     "execution_count": 20,
     "metadata": {},
     "output_type": "execute_result"
    }
   ],
   "source": [
    "dfOriginal_Prep = process_text_for_NLP_Vertuo(dfOriginal_Raw);\n",
    "print(dfOriginal_Prep.loc[0, \"Textual Info\"]);\n",
    "dfOriginal_Prep[0:1]"
   ]
  },
  {
   "cell_type": "markdown",
   "metadata": {},
   "source": [
    "## **Export Data**"
   ]
  },
  {
   "cell_type": "code",
   "execution_count": 21,
   "metadata": {},
   "outputs": [],
   "source": [
    "# dfVertuo_Prep.to_csv(\"data/PreparedCoffeeData.csv\", index=False)\n",
    "# dfCoffee_Prep = pd.concat([dfVertuo_Prep, dfOriginal_Prep]);\n",
    "# dfCoffee_Prep = dfCoffee_Prep.reset_index(drop=True);\n",
    "# dfCoffee_Prep.to_csv(\"data/PreparedCoffeeData.csv\", index=False);"
   ]
  }
 ],
 "metadata": {
  "kernelspec": {
   "display_name": "Python 3.9.13 ('base')",
   "language": "python",
   "name": "python3"
  },
  "language_info": {
   "codemirror_mode": {
    "name": "ipython",
    "version": 3
   },
   "file_extension": ".py",
   "mimetype": "text/x-python",
   "name": "python",
   "nbconvert_exporter": "python",
   "pygments_lexer": "ipython3",
   "version": "3.9.13"
  },
  "orig_nbformat": 4,
  "vscode": {
   "interpreter": {
    "hash": "011027cb63e4e9eb49dbccb88f418212d6c3bf01b990f9bd7ae45364ac357b84"
   }
  }
 },
 "nbformat": 4,
 "nbformat_minor": 2
}
